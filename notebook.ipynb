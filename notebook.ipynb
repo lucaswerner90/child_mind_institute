{
 "cells": [
  {
   "cell_type": "code",
   "execution_count": 32,
   "metadata": {},
   "outputs": [
    {
     "name": "stdout",
     "output_type": "stream",
     "text": [
      "Tensorflow version: 2.16.2\n"
     ]
    }
   ],
   "source": [
    "import pandas as pd\n",
    "import tensorflow as tf\n",
    "import os\n",
    "import numpy as np\n",
    "\n",
    "\n",
    "print(\"Tensorflow version:\", tf.__version__)"
   ]
  },
  {
   "cell_type": "code",
   "execution_count": 33,
   "metadata": {},
   "outputs": [
    {
     "data": {
      "text/plain": [
       "((2462, 8), (274, 8))"
      ]
     },
     "execution_count": 33,
     "metadata": {},
     "output_type": "execute_result"
    }
   ],
   "source": [
    "train_df = pd.read_csv(os.path.join(os.getcwd(),'data','train.csv'))\n",
    "columns_to_train = ['Basic_Demos-Age', 'Physical-BMI', 'Physical-Height', 'Physical-Weight', 'FGC-FGC_CU', 'SDS-SDS_Total_T', 'PreInt_EduHx-computerinternet_hoursday', 'sii']\n",
    "\n",
    "# Let's keep only the values that contain 'sii' values\n",
    "train_df = train_df.loc[:,columns_to_train]\n",
    "train_df = train_df[train_df['sii'].isna() == False]\n",
    "val_df = train_df.sample(frac=0.1, random_state=42)\n",
    "train_df = train_df.drop(val_df.index)\n",
    "\n",
    "train_df.shape, val_df.shape"
   ]
  },
  {
   "cell_type": "code",
   "execution_count": 34,
   "metadata": {},
   "outputs": [],
   "source": [
    "from sklearn.impute import KNNImputer\n",
    "\n",
    "def input_missing_data(df:pd.DataFrame):\n",
    "    df = df.copy()    \n",
    "    imputer_5n=KNNImputer(n_neighbors=5)\n",
    "    imputer_10n=KNNImputer(n_neighbors=10)\n",
    "    imputer_50n=KNNImputer(n_neighbors=50)\n",
    "    imputer_100n=KNNImputer(n_neighbors=100)\n",
    "    knn_imputed=(imputer_5n.fit_transform(df) + imputer_10n.fit_transform(df) + imputer_50n.fit_transform(df) + imputer_100n.fit_transform(df)) / 4\n",
    "    knn_imputed_df=pd.DataFrame(knn_imputed,columns=imputer_50n.get_feature_names_out())\n",
    "    knn_imputed_df['sii'] = np.round(knn_imputed_df['sii'])\n",
    "    return knn_imputed_df\n",
    "\n",
    "\n",
    "train_df = input_missing_data(train_df)\n",
    "val_df = input_missing_data(val_df)"
   ]
  },
  {
   "cell_type": "code",
   "execution_count": 35,
   "metadata": {},
   "outputs": [
    {
     "name": "stdout",
     "output_type": "stream",
     "text": [
      "<class 'pandas.core.frame.DataFrame'>\n",
      "RangeIndex: 2462 entries, 0 to 2461\n",
      "Data columns (total 8 columns):\n",
      " #   Column                                  Non-Null Count  Dtype  \n",
      "---  ------                                  --------------  -----  \n",
      " 0   Basic_Demos-Age                         2462 non-null   float64\n",
      " 1   Physical-BMI                            2462 non-null   float64\n",
      " 2   Physical-Height                         2462 non-null   float64\n",
      " 3   Physical-Weight                         2462 non-null   float64\n",
      " 4   FGC-FGC_CU                              2462 non-null   float64\n",
      " 5   SDS-SDS_Total_T                         2462 non-null   float64\n",
      " 6   PreInt_EduHx-computerinternet_hoursday  2462 non-null   float64\n",
      " 7   sii                                     2462 non-null   float64\n",
      "dtypes: float64(8)\n",
      "memory usage: 154.0 KB\n"
     ]
    }
   ],
   "source": [
    "train_df.info()"
   ]
  },
  {
   "cell_type": "code",
   "execution_count": 36,
   "metadata": {},
   "outputs": [],
   "source": [
    "def dataframe_to_dataset(df:pd.DataFrame):\n",
    "    df = df.copy()\n",
    "    labels = df.pop('sii')\n",
    "    labels = labels.astype(np.uint8)\n",
    "    ds = tf.data.Dataset.from_tensor_slices((dict(df), labels))\n",
    "    ds = ds.shuffle(buffer_size=len(df))\n",
    "    return ds\n",
    "\n",
    "train_ds = dataframe_to_dataset(train_df)\n",
    "train_ds = train_ds.batch(32)\n",
    "\n",
    "val_ds = dataframe_to_dataset(val_df)\n",
    "val_ds = val_ds.batch(32)"
   ]
  },
  {
   "cell_type": "code",
   "execution_count": 37,
   "metadata": {},
   "outputs": [
    {
     "name": "stdout",
     "output_type": "stream",
     "text": [
      "Input: {'Basic_Demos-Age': <tf.Tensor: shape=(32,), dtype=float64, numpy=\n",
      "array([17., 20.,  6., 10.,  6., 16., 15.,  9., 12.,  7., 10., 10.,  6.,\n",
      "        9.,  9.,  8.,  9., 12., 11.,  8.,  6., 13.,  8., 11., 10., 16.,\n",
      "       12.,  7., 12., 12.,  9.,  8.])>, 'Physical-BMI': <tf.Tensor: shape=(32,), dtype=float64, numpy=\n",
      "array([23.15264288, 31.62872446, 16.19514463, 16.3103806 , 15.76589474,\n",
      "       17.28717561, 18.97833117, 23.90472182, 22.06675625, 16.23907765,\n",
      "       17.82381518, 15.0436214 , 15.55242121, 17.46863653, 24.28348348,\n",
      "       19.05191584, 14.28591682, 18.81778384, 17.52956047, 22.95510204,\n",
      "       20.53753673, 20.71705837, 14.66316568, 18.5452562 , 15.97372222,\n",
      "       23.01031541, 27.20604686, 15.6914318 , 19.78787721, 17.59328824,\n",
      "       15.52261333, 19.62421125])>, 'Physical-Height': <tf.Tensor: shape=(32,), dtype=float64, numpy=\n",
      "array([66.9   , 71.    , 44.    , 58.5   , 47.5   , 63.    , 63.25  ,\n",
      "       54.5   , 61.    , 49.5   , 54.75  , 54.    , 45.5   , 53.    ,\n",
      "       55.5   , 50.75  , 46.    , 62.75  , 59.    , 56.    , 48.88  ,\n",
      "       62.1338, 52.    , 55.    , 60.    , 71.    , 63.    , 51.5   ,\n",
      "       62.    , 62.    , 53.5   , 54.    ])>, 'Physical-Weight': <tf.Tensor: shape=(32,), dtype=float64, numpy=\n",
      "array([147.4  , 226.8  ,  44.6  ,  79.4  ,  50.6  ,  97.6  , 108.   ,\n",
      "       101.   , 116.8  ,  56.6  ,  76.   ,  62.4  ,  45.8  ,  69.8  ,\n",
      "       106.4  ,  69.8  ,  43.   , 105.4  ,  86.8  , 102.4  ,  69.8  ,\n",
      "       113.727,  56.4  ,  79.8  ,  81.8  , 165.   , 153.6  ,  59.2  ,\n",
      "       108.2  ,  96.2  ,  63.2  ,  81.4  ])>, 'FGC-FGC_CU': <tf.Tensor: shape=(32,), dtype=float64, numpy=\n",
      "array([20.26  , 17.5325,  2.0825, 11.085 ,  1.    , 13.    , 16.495 ,\n",
      "       10.125 , 15.    ,  4.    , 11.685 ,  5.    ,  6.    , 10.    ,\n",
      "        9.9275,  2.    , 15.    , 25.    , 13.    , 24.    ,  7.19  ,\n",
      "       16.05  ,  0.    , 23.    , 11.    , 40.    , 15.    ,  7.8025,\n",
      "       15.    , 14.2275, 23.    ,  7.    ])>, 'SDS-SDS_Total_T': <tf.Tensor: shape=(32,), dtype=float64, numpy=\n",
      "array([69.    , 46.    , 54.    , 88.    , 56.6775, 38.    , 71.    ,\n",
      "       63.    , 50.    , 90.    , 42.    , 53.    , 90.    , 50.    ,\n",
      "       49.    , 47.    , 75.    , 71.    , 66.    , 59.    , 72.    ,\n",
      "       45.    , 50.    , 63.    , 53.    , 55.035 , 41.    , 51.    ,\n",
      "       45.    , 55.    , 66.    , 76.    ])>, 'PreInt_EduHx-computerinternet_hoursday': <tf.Tensor: shape=(32,), dtype=float64, numpy=\n",
      "array([3., 2., 0., 3., 0., 2., 2., 2., 0., 0., 0., 1., 0., 1., 2., 1., 2.,\n",
      "       0., 0., 1., 1., 3., 0., 2., 2., 3., 2., 0., 0., 0., 0., 0.])>}\n",
      "Label: tf.Tensor([1 0 0 2 0 0 1 2 0 2 1 0 1 1 0 0 1 1 0 1 2 1 1 0 1 1 0 0 2 0 0 0], shape=(32,), dtype=uint8)\n"
     ]
    },
    {
     "name": "stderr",
     "output_type": "stream",
     "text": [
      "2024-10-27 20:56:22.544531: W tensorflow/core/framework/local_rendezvous.cc:404] Local rendezvous is aborting with status: OUT_OF_RANGE: End of sequence\n"
     ]
    }
   ],
   "source": [
    "for x,y in train_ds.take(1):\n",
    "    print(\"Input:\", x)\n",
    "    print(\"Label:\", y)"
   ]
  },
  {
   "cell_type": "code",
   "execution_count": 38,
   "metadata": {},
   "outputs": [],
   "source": [
    "def encode_numerical_features(feature, name, dataset):\n",
    "    # Create a Normalization layer for our numerical feature\n",
    "    normalizer = tf.keras.layers.Normalization()\n",
    "    \n",
    "    # We get the feature from our dataset\n",
    "    feature_ds = dataset.map(lambda x,_: x[name])\n",
    "    feature_ds = feature_ds.map(lambda x: tf.expand_dims(x,-1))\n",
    "    \n",
    "    normalizer.adapt(feature_ds)\n",
    "    \n",
    "    encoded_feature = normalizer(feature)\n",
    "    return encoded_feature"
   ]
  },
  {
   "cell_type": "code",
   "execution_count": 39,
   "metadata": {},
   "outputs": [
    {
     "name": "stderr",
     "output_type": "stream",
     "text": [
      "2024-10-27 20:56:22.785861: W tensorflow/core/framework/local_rendezvous.cc:404] Local rendezvous is aborting with status: OUT_OF_RANGE: End of sequence\n",
      "2024-10-27 20:56:22.955214: W tensorflow/core/framework/local_rendezvous.cc:404] Local rendezvous is aborting with status: OUT_OF_RANGE: End of sequence\n",
      "2024-10-27 20:56:23.136605: W tensorflow/core/framework/local_rendezvous.cc:404] Local rendezvous is aborting with status: OUT_OF_RANGE: End of sequence\n",
      "2024-10-27 20:56:23.311369: W tensorflow/core/framework/local_rendezvous.cc:404] Local rendezvous is aborting with status: OUT_OF_RANGE: End of sequence\n",
      "2024-10-27 20:56:23.489558: W tensorflow/core/framework/local_rendezvous.cc:404] Local rendezvous is aborting with status: OUT_OF_RANGE: End of sequence\n",
      "2024-10-27 20:56:23.668348: W tensorflow/core/framework/local_rendezvous.cc:404] Local rendezvous is aborting with status: OUT_OF_RANGE: End of sequence\n",
      "2024-10-27 20:56:23.838195: W tensorflow/core/framework/local_rendezvous.cc:404] Local rendezvous is aborting with status: OUT_OF_RANGE: End of sequence\n"
     ]
    },
    {
     "data": {
      "text/html": [
       "<pre style=\"white-space:pre;overflow-x:auto;line-height:normal;font-family:Menlo,'DejaVu Sans Mono',consolas,'Courier New',monospace\"><span style=\"font-weight: bold\">Model: \"functional_4\"</span>\n",
       "</pre>\n"
      ],
      "text/plain": [
       "\u001b[1mModel: \"functional_4\"\u001b[0m\n"
      ]
     },
     "metadata": {},
     "output_type": "display_data"
    },
    {
     "data": {
      "text/html": [
       "<pre style=\"white-space:pre;overflow-x:auto;line-height:normal;font-family:Menlo,'DejaVu Sans Mono',consolas,'Courier New',monospace\">┏━━━━━━━━━━━━━━━━━━━━━┳━━━━━━━━━━━━━━━━━━━┳━━━━━━━━━━━━┳━━━━━━━━━━━━━━━━━━━┓\n",
       "┃<span style=\"font-weight: bold\"> Layer (type)        </span>┃<span style=\"font-weight: bold\"> Output Shape      </span>┃<span style=\"font-weight: bold\">    Param # </span>┃<span style=\"font-weight: bold\"> Connected to      </span>┃\n",
       "┡━━━━━━━━━━━━━━━━━━━━━╇━━━━━━━━━━━━━━━━━━━╇━━━━━━━━━━━━╇━━━━━━━━━━━━━━━━━━━┩\n",
       "│ Basic_Demos-Age     │ (<span style=\"color: #00d7ff; text-decoration-color: #00d7ff\">None</span>, <span style=\"color: #00af00; text-decoration-color: #00af00\">1</span>)         │          <span style=\"color: #00af00; text-decoration-color: #00af00\">0</span> │ -                 │\n",
       "│ (<span style=\"color: #0087ff; text-decoration-color: #0087ff\">InputLayer</span>)        │                   │            │                   │\n",
       "├─────────────────────┼───────────────────┼────────────┼───────────────────┤\n",
       "│ Physical-BMI        │ (<span style=\"color: #00d7ff; text-decoration-color: #00d7ff\">None</span>, <span style=\"color: #00af00; text-decoration-color: #00af00\">1</span>)         │          <span style=\"color: #00af00; text-decoration-color: #00af00\">0</span> │ -                 │\n",
       "│ (<span style=\"color: #0087ff; text-decoration-color: #0087ff\">InputLayer</span>)        │                   │            │                   │\n",
       "├─────────────────────┼───────────────────┼────────────┼───────────────────┤\n",
       "│ Physical-Height     │ (<span style=\"color: #00d7ff; text-decoration-color: #00d7ff\">None</span>, <span style=\"color: #00af00; text-decoration-color: #00af00\">1</span>)         │          <span style=\"color: #00af00; text-decoration-color: #00af00\">0</span> │ -                 │\n",
       "│ (<span style=\"color: #0087ff; text-decoration-color: #0087ff\">InputLayer</span>)        │                   │            │                   │\n",
       "├─────────────────────┼───────────────────┼────────────┼───────────────────┤\n",
       "│ Physical-Weight     │ (<span style=\"color: #00d7ff; text-decoration-color: #00d7ff\">None</span>, <span style=\"color: #00af00; text-decoration-color: #00af00\">1</span>)         │          <span style=\"color: #00af00; text-decoration-color: #00af00\">0</span> │ -                 │\n",
       "│ (<span style=\"color: #0087ff; text-decoration-color: #0087ff\">InputLayer</span>)        │                   │            │                   │\n",
       "├─────────────────────┼───────────────────┼────────────┼───────────────────┤\n",
       "│ FGC-FGC_CU          │ (<span style=\"color: #00d7ff; text-decoration-color: #00d7ff\">None</span>, <span style=\"color: #00af00; text-decoration-color: #00af00\">1</span>)         │          <span style=\"color: #00af00; text-decoration-color: #00af00\">0</span> │ -                 │\n",
       "│ (<span style=\"color: #0087ff; text-decoration-color: #0087ff\">InputLayer</span>)        │                   │            │                   │\n",
       "├─────────────────────┼───────────────────┼────────────┼───────────────────┤\n",
       "│ SDS-SDS_Total_T     │ (<span style=\"color: #00d7ff; text-decoration-color: #00d7ff\">None</span>, <span style=\"color: #00af00; text-decoration-color: #00af00\">1</span>)         │          <span style=\"color: #00af00; text-decoration-color: #00af00\">0</span> │ -                 │\n",
       "│ (<span style=\"color: #0087ff; text-decoration-color: #0087ff\">InputLayer</span>)        │                   │            │                   │\n",
       "├─────────────────────┼───────────────────┼────────────┼───────────────────┤\n",
       "│ PreInt_EduHx-compu… │ (<span style=\"color: #00d7ff; text-decoration-color: #00d7ff\">None</span>, <span style=\"color: #00af00; text-decoration-color: #00af00\">1</span>)         │          <span style=\"color: #00af00; text-decoration-color: #00af00\">0</span> │ -                 │\n",
       "│ (<span style=\"color: #0087ff; text-decoration-color: #0087ff\">InputLayer</span>)        │                   │            │                   │\n",
       "├─────────────────────┼───────────────────┼────────────┼───────────────────┤\n",
       "│ normalization_14    │ (<span style=\"color: #00d7ff; text-decoration-color: #00d7ff\">None</span>, <span style=\"color: #00af00; text-decoration-color: #00af00\">1</span>)         │          <span style=\"color: #00af00; text-decoration-color: #00af00\">3</span> │ Basic_Demos-Age[<span style=\"color: #00af00; text-decoration-color: #00af00\">…</span> │\n",
       "│ (<span style=\"color: #0087ff; text-decoration-color: #0087ff\">Normalization</span>)     │                   │            │                   │\n",
       "├─────────────────────┼───────────────────┼────────────┼───────────────────┤\n",
       "│ normalization_15    │ (<span style=\"color: #00d7ff; text-decoration-color: #00d7ff\">None</span>, <span style=\"color: #00af00; text-decoration-color: #00af00\">1</span>)         │          <span style=\"color: #00af00; text-decoration-color: #00af00\">3</span> │ Physical-BMI[<span style=\"color: #00af00; text-decoration-color: #00af00\">0</span>][<span style=\"color: #00af00; text-decoration-color: #00af00\">…</span> │\n",
       "│ (<span style=\"color: #0087ff; text-decoration-color: #0087ff\">Normalization</span>)     │                   │            │                   │\n",
       "├─────────────────────┼───────────────────┼────────────┼───────────────────┤\n",
       "│ normalization_16    │ (<span style=\"color: #00d7ff; text-decoration-color: #00d7ff\">None</span>, <span style=\"color: #00af00; text-decoration-color: #00af00\">1</span>)         │          <span style=\"color: #00af00; text-decoration-color: #00af00\">3</span> │ Physical-Height[<span style=\"color: #00af00; text-decoration-color: #00af00\">…</span> │\n",
       "│ (<span style=\"color: #0087ff; text-decoration-color: #0087ff\">Normalization</span>)     │                   │            │                   │\n",
       "├─────────────────────┼───────────────────┼────────────┼───────────────────┤\n",
       "│ normalization_17    │ (<span style=\"color: #00d7ff; text-decoration-color: #00d7ff\">None</span>, <span style=\"color: #00af00; text-decoration-color: #00af00\">1</span>)         │          <span style=\"color: #00af00; text-decoration-color: #00af00\">3</span> │ Physical-Weight[<span style=\"color: #00af00; text-decoration-color: #00af00\">…</span> │\n",
       "│ (<span style=\"color: #0087ff; text-decoration-color: #0087ff\">Normalization</span>)     │                   │            │                   │\n",
       "├─────────────────────┼───────────────────┼────────────┼───────────────────┤\n",
       "│ normalization_18    │ (<span style=\"color: #00d7ff; text-decoration-color: #00d7ff\">None</span>, <span style=\"color: #00af00; text-decoration-color: #00af00\">1</span>)         │          <span style=\"color: #00af00; text-decoration-color: #00af00\">3</span> │ FGC-FGC_CU[<span style=\"color: #00af00; text-decoration-color: #00af00\">0</span>][<span style=\"color: #00af00; text-decoration-color: #00af00\">0</span>]  │\n",
       "│ (<span style=\"color: #0087ff; text-decoration-color: #0087ff\">Normalization</span>)     │                   │            │                   │\n",
       "├─────────────────────┼───────────────────┼────────────┼───────────────────┤\n",
       "│ normalization_19    │ (<span style=\"color: #00d7ff; text-decoration-color: #00d7ff\">None</span>, <span style=\"color: #00af00; text-decoration-color: #00af00\">1</span>)         │          <span style=\"color: #00af00; text-decoration-color: #00af00\">3</span> │ SDS-SDS_Total_T[<span style=\"color: #00af00; text-decoration-color: #00af00\">…</span> │\n",
       "│ (<span style=\"color: #0087ff; text-decoration-color: #0087ff\">Normalization</span>)     │                   │            │                   │\n",
       "├─────────────────────┼───────────────────┼────────────┼───────────────────┤\n",
       "│ normalization_20    │ (<span style=\"color: #00d7ff; text-decoration-color: #00d7ff\">None</span>, <span style=\"color: #00af00; text-decoration-color: #00af00\">1</span>)         │          <span style=\"color: #00af00; text-decoration-color: #00af00\">3</span> │ PreInt_EduHx-com… │\n",
       "│ (<span style=\"color: #0087ff; text-decoration-color: #0087ff\">Normalization</span>)     │                   │            │                   │\n",
       "├─────────────────────┼───────────────────┼────────────┼───────────────────┤\n",
       "│ concatenate_2       │ (<span style=\"color: #00d7ff; text-decoration-color: #00d7ff\">None</span>, <span style=\"color: #00af00; text-decoration-color: #00af00\">7</span>)         │          <span style=\"color: #00af00; text-decoration-color: #00af00\">0</span> │ normalization_14… │\n",
       "│ (<span style=\"color: #0087ff; text-decoration-color: #0087ff\">Concatenate</span>)       │                   │            │ normalization_15… │\n",
       "│                     │                   │            │ normalization_16… │\n",
       "│                     │                   │            │ normalization_17… │\n",
       "│                     │                   │            │ normalization_18… │\n",
       "│                     │                   │            │ normalization_19… │\n",
       "│                     │                   │            │ normalization_20… │\n",
       "├─────────────────────┼───────────────────┼────────────┼───────────────────┤\n",
       "│ dense_12 (<span style=\"color: #0087ff; text-decoration-color: #0087ff\">Dense</span>)    │ (<span style=\"color: #00d7ff; text-decoration-color: #00d7ff\">None</span>, <span style=\"color: #00af00; text-decoration-color: #00af00\">32</span>)        │        <span style=\"color: #00af00; text-decoration-color: #00af00\">256</span> │ concatenate_2[<span style=\"color: #00af00; text-decoration-color: #00af00\">0</span>]… │\n",
       "├─────────────────────┼───────────────────┼────────────┼───────────────────┤\n",
       "│ dropout_6 (<span style=\"color: #0087ff; text-decoration-color: #0087ff\">Dropout</span>) │ (<span style=\"color: #00d7ff; text-decoration-color: #00d7ff\">None</span>, <span style=\"color: #00af00; text-decoration-color: #00af00\">32</span>)        │          <span style=\"color: #00af00; text-decoration-color: #00af00\">0</span> │ dense_12[<span style=\"color: #00af00; text-decoration-color: #00af00\">0</span>][<span style=\"color: #00af00; text-decoration-color: #00af00\">0</span>]    │\n",
       "├─────────────────────┼───────────────────┼────────────┼───────────────────┤\n",
       "│ dense_13 (<span style=\"color: #0087ff; text-decoration-color: #0087ff\">Dense</span>)    │ (<span style=\"color: #00d7ff; text-decoration-color: #00d7ff\">None</span>, <span style=\"color: #00af00; text-decoration-color: #00af00\">4</span>)         │        <span style=\"color: #00af00; text-decoration-color: #00af00\">132</span> │ dropout_6[<span style=\"color: #00af00; text-decoration-color: #00af00\">0</span>][<span style=\"color: #00af00; text-decoration-color: #00af00\">0</span>]   │\n",
       "└─────────────────────┴───────────────────┴────────────┴───────────────────┘\n",
       "</pre>\n"
      ],
      "text/plain": [
       "┏━━━━━━━━━━━━━━━━━━━━━┳━━━━━━━━━━━━━━━━━━━┳━━━━━━━━━━━━┳━━━━━━━━━━━━━━━━━━━┓\n",
       "┃\u001b[1m \u001b[0m\u001b[1mLayer (type)       \u001b[0m\u001b[1m \u001b[0m┃\u001b[1m \u001b[0m\u001b[1mOutput Shape     \u001b[0m\u001b[1m \u001b[0m┃\u001b[1m \u001b[0m\u001b[1m   Param #\u001b[0m\u001b[1m \u001b[0m┃\u001b[1m \u001b[0m\u001b[1mConnected to     \u001b[0m\u001b[1m \u001b[0m┃\n",
       "┡━━━━━━━━━━━━━━━━━━━━━╇━━━━━━━━━━━━━━━━━━━╇━━━━━━━━━━━━╇━━━━━━━━━━━━━━━━━━━┩\n",
       "│ Basic_Demos-Age     │ (\u001b[38;5;45mNone\u001b[0m, \u001b[38;5;34m1\u001b[0m)         │          \u001b[38;5;34m0\u001b[0m │ -                 │\n",
       "│ (\u001b[38;5;33mInputLayer\u001b[0m)        │                   │            │                   │\n",
       "├─────────────────────┼───────────────────┼────────────┼───────────────────┤\n",
       "│ Physical-BMI        │ (\u001b[38;5;45mNone\u001b[0m, \u001b[38;5;34m1\u001b[0m)         │          \u001b[38;5;34m0\u001b[0m │ -                 │\n",
       "│ (\u001b[38;5;33mInputLayer\u001b[0m)        │                   │            │                   │\n",
       "├─────────────────────┼───────────────────┼────────────┼───────────────────┤\n",
       "│ Physical-Height     │ (\u001b[38;5;45mNone\u001b[0m, \u001b[38;5;34m1\u001b[0m)         │          \u001b[38;5;34m0\u001b[0m │ -                 │\n",
       "│ (\u001b[38;5;33mInputLayer\u001b[0m)        │                   │            │                   │\n",
       "├─────────────────────┼───────────────────┼────────────┼───────────────────┤\n",
       "│ Physical-Weight     │ (\u001b[38;5;45mNone\u001b[0m, \u001b[38;5;34m1\u001b[0m)         │          \u001b[38;5;34m0\u001b[0m │ -                 │\n",
       "│ (\u001b[38;5;33mInputLayer\u001b[0m)        │                   │            │                   │\n",
       "├─────────────────────┼───────────────────┼────────────┼───────────────────┤\n",
       "│ FGC-FGC_CU          │ (\u001b[38;5;45mNone\u001b[0m, \u001b[38;5;34m1\u001b[0m)         │          \u001b[38;5;34m0\u001b[0m │ -                 │\n",
       "│ (\u001b[38;5;33mInputLayer\u001b[0m)        │                   │            │                   │\n",
       "├─────────────────────┼───────────────────┼────────────┼───────────────────┤\n",
       "│ SDS-SDS_Total_T     │ (\u001b[38;5;45mNone\u001b[0m, \u001b[38;5;34m1\u001b[0m)         │          \u001b[38;5;34m0\u001b[0m │ -                 │\n",
       "│ (\u001b[38;5;33mInputLayer\u001b[0m)        │                   │            │                   │\n",
       "├─────────────────────┼───────────────────┼────────────┼───────────────────┤\n",
       "│ PreInt_EduHx-compu… │ (\u001b[38;5;45mNone\u001b[0m, \u001b[38;5;34m1\u001b[0m)         │          \u001b[38;5;34m0\u001b[0m │ -                 │\n",
       "│ (\u001b[38;5;33mInputLayer\u001b[0m)        │                   │            │                   │\n",
       "├─────────────────────┼───────────────────┼────────────┼───────────────────┤\n",
       "│ normalization_14    │ (\u001b[38;5;45mNone\u001b[0m, \u001b[38;5;34m1\u001b[0m)         │          \u001b[38;5;34m3\u001b[0m │ Basic_Demos-Age[\u001b[38;5;34m…\u001b[0m │\n",
       "│ (\u001b[38;5;33mNormalization\u001b[0m)     │                   │            │                   │\n",
       "├─────────────────────┼───────────────────┼────────────┼───────────────────┤\n",
       "│ normalization_15    │ (\u001b[38;5;45mNone\u001b[0m, \u001b[38;5;34m1\u001b[0m)         │          \u001b[38;5;34m3\u001b[0m │ Physical-BMI[\u001b[38;5;34m0\u001b[0m][\u001b[38;5;34m…\u001b[0m │\n",
       "│ (\u001b[38;5;33mNormalization\u001b[0m)     │                   │            │                   │\n",
       "├─────────────────────┼───────────────────┼────────────┼───────────────────┤\n",
       "│ normalization_16    │ (\u001b[38;5;45mNone\u001b[0m, \u001b[38;5;34m1\u001b[0m)         │          \u001b[38;5;34m3\u001b[0m │ Physical-Height[\u001b[38;5;34m…\u001b[0m │\n",
       "│ (\u001b[38;5;33mNormalization\u001b[0m)     │                   │            │                   │\n",
       "├─────────────────────┼───────────────────┼────────────┼───────────────────┤\n",
       "│ normalization_17    │ (\u001b[38;5;45mNone\u001b[0m, \u001b[38;5;34m1\u001b[0m)         │          \u001b[38;5;34m3\u001b[0m │ Physical-Weight[\u001b[38;5;34m…\u001b[0m │\n",
       "│ (\u001b[38;5;33mNormalization\u001b[0m)     │                   │            │                   │\n",
       "├─────────────────────┼───────────────────┼────────────┼───────────────────┤\n",
       "│ normalization_18    │ (\u001b[38;5;45mNone\u001b[0m, \u001b[38;5;34m1\u001b[0m)         │          \u001b[38;5;34m3\u001b[0m │ FGC-FGC_CU[\u001b[38;5;34m0\u001b[0m][\u001b[38;5;34m0\u001b[0m]  │\n",
       "│ (\u001b[38;5;33mNormalization\u001b[0m)     │                   │            │                   │\n",
       "├─────────────────────┼───────────────────┼────────────┼───────────────────┤\n",
       "│ normalization_19    │ (\u001b[38;5;45mNone\u001b[0m, \u001b[38;5;34m1\u001b[0m)         │          \u001b[38;5;34m3\u001b[0m │ SDS-SDS_Total_T[\u001b[38;5;34m…\u001b[0m │\n",
       "│ (\u001b[38;5;33mNormalization\u001b[0m)     │                   │            │                   │\n",
       "├─────────────────────┼───────────────────┼────────────┼───────────────────┤\n",
       "│ normalization_20    │ (\u001b[38;5;45mNone\u001b[0m, \u001b[38;5;34m1\u001b[0m)         │          \u001b[38;5;34m3\u001b[0m │ PreInt_EduHx-com… │\n",
       "│ (\u001b[38;5;33mNormalization\u001b[0m)     │                   │            │                   │\n",
       "├─────────────────────┼───────────────────┼────────────┼───────────────────┤\n",
       "│ concatenate_2       │ (\u001b[38;5;45mNone\u001b[0m, \u001b[38;5;34m7\u001b[0m)         │          \u001b[38;5;34m0\u001b[0m │ normalization_14… │\n",
       "│ (\u001b[38;5;33mConcatenate\u001b[0m)       │                   │            │ normalization_15… │\n",
       "│                     │                   │            │ normalization_16… │\n",
       "│                     │                   │            │ normalization_17… │\n",
       "│                     │                   │            │ normalization_18… │\n",
       "│                     │                   │            │ normalization_19… │\n",
       "│                     │                   │            │ normalization_20… │\n",
       "├─────────────────────┼───────────────────┼────────────┼───────────────────┤\n",
       "│ dense_12 (\u001b[38;5;33mDense\u001b[0m)    │ (\u001b[38;5;45mNone\u001b[0m, \u001b[38;5;34m32\u001b[0m)        │        \u001b[38;5;34m256\u001b[0m │ concatenate_2[\u001b[38;5;34m0\u001b[0m]… │\n",
       "├─────────────────────┼───────────────────┼────────────┼───────────────────┤\n",
       "│ dropout_6 (\u001b[38;5;33mDropout\u001b[0m) │ (\u001b[38;5;45mNone\u001b[0m, \u001b[38;5;34m32\u001b[0m)        │          \u001b[38;5;34m0\u001b[0m │ dense_12[\u001b[38;5;34m0\u001b[0m][\u001b[38;5;34m0\u001b[0m]    │\n",
       "├─────────────────────┼───────────────────┼────────────┼───────────────────┤\n",
       "│ dense_13 (\u001b[38;5;33mDense\u001b[0m)    │ (\u001b[38;5;45mNone\u001b[0m, \u001b[38;5;34m4\u001b[0m)         │        \u001b[38;5;34m132\u001b[0m │ dropout_6[\u001b[38;5;34m0\u001b[0m][\u001b[38;5;34m0\u001b[0m]   │\n",
       "└─────────────────────┴───────────────────┴────────────┴───────────────────┘\n"
      ]
     },
     "metadata": {},
     "output_type": "display_data"
    },
    {
     "data": {
      "text/html": [
       "<pre style=\"white-space:pre;overflow-x:auto;line-height:normal;font-family:Menlo,'DejaVu Sans Mono',consolas,'Courier New',monospace\"><span style=\"font-weight: bold\"> Total params: </span><span style=\"color: #00af00; text-decoration-color: #00af00\">409</span> (1.62 KB)\n",
       "</pre>\n"
      ],
      "text/plain": [
       "\u001b[1m Total params: \u001b[0m\u001b[38;5;34m409\u001b[0m (1.62 KB)\n"
      ]
     },
     "metadata": {},
     "output_type": "display_data"
    },
    {
     "data": {
      "text/html": [
       "<pre style=\"white-space:pre;overflow-x:auto;line-height:normal;font-family:Menlo,'DejaVu Sans Mono',consolas,'Courier New',monospace\"><span style=\"font-weight: bold\"> Trainable params: </span><span style=\"color: #00af00; text-decoration-color: #00af00\">388</span> (1.52 KB)\n",
       "</pre>\n"
      ],
      "text/plain": [
       "\u001b[1m Trainable params: \u001b[0m\u001b[38;5;34m388\u001b[0m (1.52 KB)\n"
      ]
     },
     "metadata": {},
     "output_type": "display_data"
    },
    {
     "data": {
      "text/html": [
       "<pre style=\"white-space:pre;overflow-x:auto;line-height:normal;font-family:Menlo,'DejaVu Sans Mono',consolas,'Courier New',monospace\"><span style=\"font-weight: bold\"> Non-trainable params: </span><span style=\"color: #00af00; text-decoration-color: #00af00\">21</span> (112.00 B)\n",
       "</pre>\n"
      ],
      "text/plain": [
       "\u001b[1m Non-trainable params: \u001b[0m\u001b[38;5;34m21\u001b[0m (112.00 B)\n"
      ]
     },
     "metadata": {},
     "output_type": "display_data"
    }
   ],
   "source": [
    "# Numerical features\n",
    "age = tf.keras.Input(shape=(1,),name=\"Basic_Demos-Age\")\n",
    "bmi = tf.keras.Input(shape=(1,),name=\"Physical-BMI\")\n",
    "height = tf.keras.Input(shape=(1,),name=\"Physical-Height\")\n",
    "weight = tf.keras.Input(shape=(1,),name=\"Physical-Weight\")\n",
    "fgc = tf.keras.Input(shape=(1,),name=\"FGC-FGC_CU\")\n",
    "sds = tf.keras.Input(shape=(1,),name=\"SDS-SDS_Total_T\")\n",
    "internet = tf.keras.Input(shape=(1,),name=\"PreInt_EduHx-computerinternet_hoursday\")\n",
    "\n",
    "\n",
    "age_encoded = encode_numerical_features(age, \"Basic_Demos-Age\", train_ds)\n",
    "bmi_encoded = encode_numerical_features(bmi, \"Physical-BMI\", train_ds)\n",
    "height_encoded = encode_numerical_features(height, \"Physical-Height\", train_ds)\n",
    "weight_encoded = encode_numerical_features(weight, \"Physical-Weight\", train_ds)\n",
    "fgc_encoded = encode_numerical_features(fgc, \"FGC-FGC_CU\", train_ds)\n",
    "sds_encoded = encode_numerical_features(sds, \"SDS-SDS_Total_T\", train_ds)\n",
    "internet_encoded = encode_numerical_features(internet, \"PreInt_EduHx-computerinternet_hoursday\", train_ds)\n",
    "\n",
    "all_inputs = [age,bmi,height,weight,fgc,sds,internet]\n",
    "\n",
    "all_features = tf.keras.layers.concatenate([\n",
    "\tage_encoded,\n",
    "\tbmi_encoded,\n",
    "\theight_encoded,\n",
    "\tweight_encoded,\n",
    "\tfgc_encoded,\n",
    "\tsds_encoded,\n",
    "\tinternet_encoded\n",
    "])\n",
    "\n",
    "\n",
    "x = tf.keras.layers.Dense(32, activation='relu')(all_features)\n",
    "x = tf.keras.layers.Dropout(0.5)(x)\n",
    "output = tf.keras.layers.Dense(4, activation='softmax')(x)\n",
    "\n",
    "model = tf.keras.Model(all_inputs, output)\n",
    "model.compile(\"adam\",\"crossentropy\",metrics=[\"accuracy\"])\n",
    "model.summary()"
   ]
  },
  {
   "cell_type": "code",
   "execution_count": 40,
   "metadata": {},
   "outputs": [
    {
     "name": "stderr",
     "output_type": "stream",
     "text": [
      "/Users/lucaswerner/Desktop/projects/kaggle/child_mind_institute/.venv/lib/python3.11/site-packages/keras/src/models/functional.py:225: UserWarning: The structure of `inputs` doesn't match the expected structure: ['Basic_Demos-Age', 'Physical-BMI', 'Physical-Height', 'Physical-Weight', 'FGC-FGC_CU', 'SDS-SDS_Total_T', 'PreInt_EduHx-computerinternet_hoursday']. Received: the structure of inputs={'Basic_Demos-Age': '*', 'Physical-BMI': '*', 'Physical-Height': '*', 'Physical-Weight': '*', 'FGC-FGC_CU': '*', 'SDS-SDS_Total_T': '*', 'PreInt_EduHx-computerinternet_hoursday': '*'}\n",
      "  warnings.warn(\n"
     ]
    }
   ],
   "source": [
    "history = model.fit(train_ds, epochs=10, validation_data=val_ds, verbose=0)"
   ]
  },
  {
   "cell_type": "code",
   "execution_count": 41,
   "metadata": {},
   "outputs": [
    {
     "data": {
      "image/png": "[encoded data removed]",
      "text/plain": [
       "<Figure size 640x480 with 1 Axes>"
      ]
     },
     "metadata": {},
     "output_type": "display_data"
    }
   ],
   "source": [
    "import matplotlib.pyplot as plt\n",
    "\n",
    "# Extract loss values\n",
    "train_loss = history.history['loss']\n",
    "val_loss = history.history['val_loss']\n",
    "\n",
    "# Plot the training and validation loss\n",
    "epochs = range(1, len(train_loss) + 1)\n",
    "\n",
    "plt.plot(epochs, train_loss, 'bo-', label='Training Loss')\n",
    "plt.plot(epochs, val_loss, 'ro-', label='Validation Loss')\n",
    "plt.title('Training and Validation Loss')\n",
    "plt.xlabel('Epochs')\n",
    "plt.ylabel('Loss')\n",
    "plt.legend()\n",
    "plt.show()"
   ]
  },
  {
   "cell_type": "code",
   "execution_count": 42,
   "metadata": {},
   "outputs": [
    {
     "name": "stdout",
     "output_type": "stream",
     "text": [
      "\u001b[1m9/9\u001b[0m \u001b[32m━━━━━━━━━━━━━━━━━━━━\u001b[0m\u001b[37m\u001b[0m \u001b[1m0s\u001b[0m 14ms/step\n"
     ]
    },
    {
     "data": {
      "text/plain": [
       "Counter({0: 259, 2: 8, 1: 7})"
      ]
     },
     "execution_count": 42,
     "metadata": {},
     "output_type": "execute_result"
    }
   ],
   "source": [
    "import collections\n",
    "predictions = np.argmax(model.predict(val_ds), axis=1)\n",
    "counter = collections.Counter(predictions)\n",
    "counter"
   ]
  },
  {
   "cell_type": "code",
   "execution_count": 43,
   "metadata": {},
   "outputs": [],
   "source": [
    "# Try with a more complex model\n",
    "x = tf.keras.layers.Dense(256, activation='relu')(all_features)\n",
    "x = tf.keras.layers.Dropout(0.5)(x)\n",
    "x = tf.keras.layers.Dense(512, activation='relu')(x)\n",
    "x = tf.keras.layers.Dropout(0.5)(x)\n",
    "x = tf.keras.layers.Dense(128, activation='relu')(x)\n",
    "x = tf.keras.layers.Dropout(0.5)(x)\n",
    "x = tf.keras.layers.Dense(64, activation='relu')(x)\n",
    "output = tf.keras.layers.Dense(4, activation='softmax')(x)\n",
    "\n",
    "model = tf.keras.Model(all_inputs, output)\n",
    "model.compile(\"adam\",\"crossentropy\",metrics=[\"accuracy\"])\n"
   ]
  },
  {
   "cell_type": "code",
   "execution_count": 44,
   "metadata": {},
   "outputs": [
    {
     "data": {
      "image/png": "[encoded data removed]",
      "text/plain": [
       "<Figure size 640x480 with 1 Axes>"
      ]
     },
     "metadata": {},
     "output_type": "display_data"
    }
   ],
   "source": [
    "history = model.fit(train_ds, epochs=20, validation_data=val_ds, verbose=0)\n",
    "\n",
    "# Extract loss values\n",
    "train_loss = history.history['loss']\n",
    "val_loss = history.history['val_loss']\n",
    "\n",
    "# Plot the training and validation loss\n",
    "epochs = range(1, len(train_loss) + 1)\n",
    "\n",
    "plt.plot(epochs, train_loss, 'bo-', label='Training Loss')\n",
    "plt.plot(epochs, val_loss, 'ro-', label='Validation Loss')\n",
    "plt.title('Training and Validation Loss')\n",
    "plt.xlabel('Epochs')\n",
    "plt.ylabel('Loss')\n",
    "plt.legend()\n",
    "plt.show()"
   ]
  },
  {
   "cell_type": "code",
   "execution_count": 45,
   "metadata": {},
   "outputs": [
    {
     "name": "stdout",
     "output_type": "stream",
     "text": [
      "\u001b[1m9/9\u001b[0m \u001b[32m━━━━━━━━━━━━━━━━━━━━\u001b[0m\u001b[37m\u001b[0m \u001b[1m0s\u001b[0m 15ms/step\n"
     ]
    },
    {
     "data": {
      "text/plain": [
       "Counter({0: 262, 1: 12})"
      ]
     },
     "execution_count": 45,
     "metadata": {},
     "output_type": "execute_result"
    }
   ],
   "source": [
    "predictions = np.argmax(model.predict(val_ds), axis=1)\n",
    "counter = collections.Counter(predictions)\n",
    "counter"
   ]
  },
  {
   "cell_type": "code",
   "execution_count": 46,
   "metadata": {},
   "outputs": [
    {
     "name": "stdout",
     "output_type": "stream",
     "text": [
      "Target:  1  Prediction: 0\n",
      "Target:  2  Prediction: 0\n",
      "Target:  2  Prediction: 0\n",
      "Target:  1  Prediction: 0\n",
      "Target:  2  Prediction: 0\n",
      "Target:  1  Prediction: 0\n",
      "Target:  1  Prediction: 0\n",
      "Target:  2  Prediction: 0\n",
      "Target:  1  Prediction: 0\n",
      "Target:  1  Prediction: 0\n",
      "Target:  1  Prediction: 0\n",
      "Target:  2  Prediction: 0\n",
      "Target:  1  Prediction: 0\n",
      "Target:  3  Prediction: 0\n",
      "Target:  1  Prediction: 0\n",
      "Target:  1  Prediction: 0\n",
      "Target:  2  Prediction: 0\n",
      "Target:  1  Prediction: 0\n",
      "Target:  1  Prediction: 0\n",
      "Target:  1  Prediction: 0\n",
      "Target:  1  Prediction: 0\n",
      "Target:  1  Prediction: 0\n",
      "Target:  1  Prediction: 0\n",
      "Target:  1  Prediction: 0\n",
      "Target:  2  Prediction: 0\n",
      "Target:  3  Prediction: 0\n",
      "Target:  1  Prediction: 0\n",
      "Target:  2  Prediction: 0\n",
      "Target:  2  Prediction: 0\n",
      "Target:  1  Prediction: 0\n",
      "Target:  1  Prediction: 0\n",
      "Target:  1  Prediction: 0\n",
      "Target:  0  Prediction: 1\n",
      "Target:  2  Prediction: 1\n",
      "Target:  2  Prediction: 1\n",
      "Target:  2  Prediction: 0\n",
      "Target:  1  Prediction: 0\n",
      "Target:  1  Prediction: 0\n",
      "Target:  1  Prediction: 0\n",
      "Target:  1  Prediction: 0\n",
      "Target:  1  Prediction: 0\n",
      "Target:  1  Prediction: 0\n",
      "Target:  2  Prediction: 0\n",
      "Target:  1  Prediction: 0\n",
      "Target:  0  Prediction: 1\n",
      "Target:  2  Prediction: 0\n",
      "Target:  1  Prediction: 0\n",
      "Target:  2  Prediction: 0\n",
      "Target:  2  Prediction: 0\n",
      "Target:  1  Prediction: 0\n",
      "Target:  1  Prediction: 0\n",
      "Target:  1  Prediction: 0\n",
      "Target:  2  Prediction: 0\n",
      "Target:  1  Prediction: 0\n",
      "Target:  2  Prediction: 0\n",
      "Target:  1  Prediction: 0\n",
      "Target:  2  Prediction: 0\n",
      "Target:  2  Prediction: 0\n",
      "Target:  1  Prediction: 0\n",
      "Target:  1  Prediction: 0\n",
      "Target:  1  Prediction: 0\n",
      "Target:  1  Prediction: 0\n",
      "Target:  0  Prediction: 1\n",
      "Target:  1  Prediction: 0\n",
      "Target:  1  Prediction: 0\n",
      "Target:  2  Prediction: 0\n",
      "Target:  1  Prediction: 0\n",
      "Target:  0  Prediction: 1\n",
      "Target:  1  Prediction: 0\n",
      "Target:  1  Prediction: 0\n",
      "Target:  1  Prediction: 0\n",
      "Target:  2  Prediction: 0\n",
      "Target:  1  Prediction: 0\n",
      "Target:  1  Prediction: 0\n",
      "Target:  1  Prediction: 0\n",
      "Target:  2  Prediction: 0\n",
      "Target:  2  Prediction: 0\n",
      "Target:  1  Prediction: 0\n",
      "Target:  0  Prediction: 1\n",
      "Target:  0  Prediction: 1\n",
      "Target:  2  Prediction: 0\n",
      "Target:  0  Prediction: 1\n",
      "Target:  1  Prediction: 0\n",
      "Target:  1  Prediction: 0\n",
      "Target:  2  Prediction: 0\n",
      "Target:  1  Prediction: 0\n",
      "Target:  0  Prediction: 1\n",
      "Target:  1  Prediction: 0\n",
      "Target:  2  Prediction: 0\n",
      "Target:  2  Prediction: 1\n",
      "Target:  2  Prediction: 0\n",
      "Target:  2  Prediction: 0\n",
      "Target:  2  Prediction: 0\n",
      "Target:  2  Prediction: 0\n",
      "Target:  1  Prediction: 0\n",
      "Target:  2  Prediction: 0\n",
      "Target:  2  Prediction: 0\n",
      "Target:  1  Prediction: 0\n",
      "Target:  2  Prediction: 0\n",
      "Target:  1  Prediction: 0\n",
      "Target:  1  Prediction: 0\n",
      "Target:  1  Prediction: 0\n",
      "Target:  2  Prediction: 0\n",
      "Target:  3  Prediction: 0\n",
      "Target:  2  Prediction: 0\n",
      "Target:  2  Prediction: 0\n",
      "Target:  2  Prediction: 0\n",
      "Target:  1  Prediction: 0\n",
      "Target:  2  Prediction: 0\n",
      "Target:  2  Prediction: 0\n",
      "Target:  1  Prediction: 0\n",
      "Target:  1  Prediction: 0\n",
      "Target:  2  Prediction: 0\n",
      "Target:  3  Prediction: 0\n",
      "Target:  2  Prediction: 0\n",
      "Target:  1  Prediction: 0\n",
      "Target:  0  Prediction: 1\n",
      "Target:  1  Prediction: 0\n",
      "Target:  2  Prediction: 0\n"
     ]
    },
    {
     "name": "stderr",
     "output_type": "stream",
     "text": [
      "2024-10-27 20:56:33.783047: W tensorflow/core/framework/local_rendezvous.cc:404] Local rendezvous is aborting with status: OUT_OF_RANGE: End of sequence\n"
     ]
    }
   ],
   "source": [
    "val_targets = val_ds.unbatch().map(lambda x,y: y)\n",
    "val_targets = list(val_targets.as_numpy_iterator())\n",
    "for target, prediction in zip(val_targets,predictions):\n",
    "    if target != prediction:\n",
    "        print(\"Target: \", target, \" Prediction:\", prediction)"
   ]
  },
  {
   "cell_type": "code",
   "execution_count": null,
   "metadata": {},
   "outputs": [],
   "source": []
  }
 ],
 "metadata": {
  "kernelspec": {
   "display_name": ".venv",
   "language": "python",
   "name": "python3"
  },
  "language_info": {
   "codemirror_mode": {
    "name": "ipython",
    "version": 3
   },
   "file_extension": ".py",
   "mimetype": "text/x-python",
   "name": "python",
   "nbconvert_exporter": "python",
   "pygments_lexer": "ipython3",
   "version": "3.11.6"
  }
 },
 "nbformat": 4,
 "nbformat_minor": 2
}
