{
 "cells": [
  {
   "cell_type": "code",
   "execution_count": 286,
   "metadata": {},
   "outputs": [
    {
     "name": "stdout",
     "output_type": "stream",
     "text": [
      "Tensorflow version: 2.16.2\n"
     ]
    }
   ],
   "source": [
    "import pandas as pd\n",
    "import tensorflow as tf\n",
    "import os\n",
    "import numpy as np\n",
    "import matplotlib.pyplot as plt\n",
    "from sklearn.impute import KNNImputer\n",
    "\n",
    "tf.random.set_seed(42)\n",
    "print(\"Tensorflow version:\", tf.__version__)"
   ]
  },
  {
   "cell_type": "code",
   "execution_count": 305,
   "metadata": {},
   "outputs": [
    {
     "data": {
      "text/plain": [
       "((2189, 9), (547, 9))"
      ]
     },
     "execution_count": 305,
     "metadata": {},
     "output_type": "execute_result"
    }
   ],
   "source": [
    "train_df = pd.read_csv(os.path.join(os.getcwd(),'data','train.csv'))\n",
    "\n",
    "columns_to_train = [\n",
    "    'Basic_Demos-Age',\n",
    "    'Physical-BMI',\n",
    "    'Physical-Height',\n",
    "    'Physical-Weight',\n",
    "    'FGC-FGC_CU',\n",
    "    'SDS-SDS_Total_T',\n",
    "    'PreInt_EduHx-computerinternet_hoursday',\n",
    "    'sii'\n",
    "]\n",
    "\n",
    "def initial_category(sii:float):\n",
    "    return 0 if sii == 0 else 1\n",
    "\n",
    "# Let's keep only the values that contain 'sii' values\n",
    "train_df = train_df.loc[:,columns_to_train]\n",
    "train_df = train_df[train_df['sii'].isna() == False]\n",
    "train_df['sii_initial_category'] = train_df['sii'].apply(lambda x: initial_category(x))\n",
    "\n",
    "val_df = train_df.sample(frac=0.2, random_state=42)\n",
    "train_df = train_df.drop(val_df.index)\n",
    "\n",
    "train_df.shape, val_df.shape"
   ]
  },
  {
   "cell_type": "code",
   "execution_count": 303,
   "metadata": {},
   "outputs": [
    {
     "data": {
      "text/html": [
       "<div>\n",
       "<style scoped>\n",
       "    .dataframe tbody tr th:only-of-type {\n",
       "        vertical-align: middle;\n",
       "    }\n",
       "\n",
       "    .dataframe tbody tr th {\n",
       "        vertical-align: top;\n",
       "    }\n",
       "\n",
       "    .dataframe thead th {\n",
       "        text-align: right;\n",
       "    }\n",
       "</style>\n",
       "<table border=\"1\" class=\"dataframe\">\n",
       "  <thead>\n",
       "    <tr style=\"text-align: right;\">\n",
       "      <th></th>\n",
       "      <th>Basic_Demos-Age</th>\n",
       "      <th>Physical-BMI</th>\n",
       "      <th>Physical-Height</th>\n",
       "      <th>Physical-Weight</th>\n",
       "      <th>FGC-FGC_CU</th>\n",
       "      <th>SDS-SDS_Total_T</th>\n",
       "      <th>PreInt_EduHx-computerinternet_hoursday</th>\n",
       "      <th>sii_initial_category</th>\n",
       "    </tr>\n",
       "  </thead>\n",
       "  <tbody>\n",
       "    <tr>\n",
       "      <th>0</th>\n",
       "      <td>5</td>\n",
       "      <td>16.877316</td>\n",
       "      <td>46.0</td>\n",
       "      <td>50.8</td>\n",
       "      <td>0.0</td>\n",
       "      <td>NaN</td>\n",
       "      <td>3.0</td>\n",
       "      <td>1</td>\n",
       "    </tr>\n",
       "    <tr>\n",
       "      <th>1</th>\n",
       "      <td>9</td>\n",
       "      <td>14.035590</td>\n",
       "      <td>48.0</td>\n",
       "      <td>46.0</td>\n",
       "      <td>3.0</td>\n",
       "      <td>64.0</td>\n",
       "      <td>0.0</td>\n",
       "      <td>0</td>\n",
       "    </tr>\n",
       "    <tr>\n",
       "      <th>2</th>\n",
       "      <td>10</td>\n",
       "      <td>16.648696</td>\n",
       "      <td>56.5</td>\n",
       "      <td>75.6</td>\n",
       "      <td>20.0</td>\n",
       "      <td>54.0</td>\n",
       "      <td>2.0</td>\n",
       "      <td>0</td>\n",
       "    </tr>\n",
       "    <tr>\n",
       "      <th>3</th>\n",
       "      <td>9</td>\n",
       "      <td>18.292347</td>\n",
       "      <td>56.0</td>\n",
       "      <td>81.6</td>\n",
       "      <td>18.0</td>\n",
       "      <td>45.0</td>\n",
       "      <td>0.0</td>\n",
       "      <td>1</td>\n",
       "    </tr>\n",
       "    <tr>\n",
       "      <th>5</th>\n",
       "      <td>13</td>\n",
       "      <td>22.279952</td>\n",
       "      <td>59.5</td>\n",
       "      <td>112.2</td>\n",
       "      <td>12.0</td>\n",
       "      <td>56.0</td>\n",
       "      <td>0.0</td>\n",
       "      <td>1</td>\n",
       "    </tr>\n",
       "  </tbody>\n",
       "</table>\n",
       "</div>"
      ],
      "text/plain": [
       "   Basic_Demos-Age  Physical-BMI  Physical-Height  Physical-Weight  \\\n",
       "0                5     16.877316             46.0             50.8   \n",
       "1                9     14.035590             48.0             46.0   \n",
       "2               10     16.648696             56.5             75.6   \n",
       "3                9     18.292347             56.0             81.6   \n",
       "5               13     22.279952             59.5            112.2   \n",
       "\n",
       "   FGC-FGC_CU  SDS-SDS_Total_T  PreInt_EduHx-computerinternet_hoursday  \\\n",
       "0         0.0              NaN                                     3.0   \n",
       "1         3.0             64.0                                     0.0   \n",
       "2        20.0             54.0                                     2.0   \n",
       "3        18.0             45.0                                     0.0   \n",
       "5        12.0             56.0                                     0.0   \n",
       "\n",
       "   sii_initial_category  \n",
       "0                     1  \n",
       "1                     0  \n",
       "2                     0  \n",
       "3                     1  \n",
       "5                     1  "
      ]
     },
     "execution_count": 303,
     "metadata": {},
     "output_type": "execute_result"
    }
   ],
   "source": [
    "train_df.head(5)"
   ]
  },
  {
   "cell_type": "code",
   "execution_count": 306,
   "metadata": {},
   "outputs": [],
   "source": [
    "def input_missing_data(df:pd.DataFrame):\n",
    "    df = df.copy()\n",
    "    imputer_5n=KNNImputer(n_neighbors=5)\n",
    "    imputer_10n=KNNImputer(n_neighbors=10)\n",
    "    imputer_50n=KNNImputer(n_neighbors=50)\n",
    "    imputer_100n=KNNImputer(n_neighbors=100)\n",
    "    knn_imputed=(imputer_5n.fit_transform(df) + imputer_10n.fit_transform(df) + imputer_50n.fit_transform(df) + imputer_100n.fit_transform(df)) / 4\n",
    "    knn_imputed_df=pd.DataFrame(knn_imputed,columns=imputer_50n.get_feature_names_out())\n",
    "    return knn_imputed_df\n",
    "\n",
    "train_df = input_missing_data(train_df)\n",
    "val_df = input_missing_data(val_df)"
   ]
  },
  {
   "cell_type": "code",
   "execution_count": 307,
   "metadata": {},
   "outputs": [
    {
     "name": "stdout",
     "output_type": "stream",
     "text": [
      "<class 'pandas.core.frame.DataFrame'>\n",
      "RangeIndex: 2189 entries, 0 to 2188\n",
      "Data columns (total 9 columns):\n",
      " #   Column                                  Non-Null Count  Dtype  \n",
      "---  ------                                  --------------  -----  \n",
      " 0   Basic_Demos-Age                         2189 non-null   float64\n",
      " 1   Physical-BMI                            2189 non-null   float64\n",
      " 2   Physical-Height                         2189 non-null   float64\n",
      " 3   Physical-Weight                         2189 non-null   float64\n",
      " 4   FGC-FGC_CU                              2189 non-null   float64\n",
      " 5   SDS-SDS_Total_T                         2189 non-null   float64\n",
      " 6   PreInt_EduHx-computerinternet_hoursday  2189 non-null   float64\n",
      " 7   sii                                     2189 non-null   float64\n",
      " 8   sii_initial_category                    2189 non-null   float64\n",
      "dtypes: float64(9)\n",
      "memory usage: 154.0 KB\n"
     ]
    }
   ],
   "source": [
    "train_df.info()"
   ]
  },
  {
   "cell_type": "code",
   "execution_count": 308,
   "metadata": {},
   "outputs": [
    {
     "data": {
      "text/plain": [
       "<Axes: ylabel='Frequency'>"
      ]
     },
     "execution_count": 308,
     "metadata": {},
     "output_type": "execute_result"
    },
    {
     "data": {
      "image/png": "[encoded data removed]",
      "text/plain": [
       "<Figure size 640x480 with 1 Axes>"
      ]
     },
     "metadata": {},
     "output_type": "display_data"
    }
   ],
   "source": [
    "train_df['sii'].plot(kind='hist')"
   ]
  },
  {
   "cell_type": "code",
   "execution_count": 291,
   "metadata": {},
   "outputs": [],
   "source": [
    "def dataframe_to_dataset(df:pd.DataFrame):\n",
    "    df = df.copy()\n",
    "    labels = df.pop('sii_initial_category')\n",
    "    ds = tf.data.Dataset.from_tensor_slices((dict(df), labels))\n",
    "    ds = ds.shuffle(buffer_size=len(df))\n",
    "    return ds\n",
    "\n",
    "train_ds = dataframe_to_dataset(train_df)\n",
    "val_ds = dataframe_to_dataset(val_df)"
   ]
  },
  {
   "cell_type": "code",
   "execution_count": 292,
   "metadata": {},
   "outputs": [
    {
     "name": "stdout",
     "output_type": "stream",
     "text": [
      "Input: {'Basic_Demos-Age': <tf.Tensor: shape=(), dtype=float64, numpy=16.0>, 'Physical-BMI': <tf.Tensor: shape=(), dtype=float64, numpy=18.36408163>, 'Physical-Height': <tf.Tensor: shape=(), dtype=float64, numpy=70.0>, 'Physical-Weight': <tf.Tensor: shape=(), dtype=float64, numpy=128.0>, 'FGC-FGC_CU': <tf.Tensor: shape=(), dtype=float64, numpy=33.0>, 'SDS-SDS_Total_T': <tf.Tensor: shape=(), dtype=float64, numpy=55.035>, 'PreInt_EduHx-computerinternet_hoursday': <tf.Tensor: shape=(), dtype=float64, numpy=3.0>}\n",
      "Label: tf.Tensor(1.0, shape=(), dtype=float64)\n"
     ]
    },
    {
     "name": "stderr",
     "output_type": "stream",
     "text": [
      "2024-10-29 23:57:48.587045: W tensorflow/core/framework/local_rendezvous.cc:404] Local rendezvous is aborting with status: OUT_OF_RANGE: End of sequence\n"
     ]
    }
   ],
   "source": [
    "for x,y in train_ds.take(1):\n",
    "    print(\"Input:\", x)\n",
    "    print(\"Label:\", y)"
   ]
  },
  {
   "cell_type": "code",
   "execution_count": 293,
   "metadata": {},
   "outputs": [],
   "source": [
    "train_ds = train_ds.batch(32)\n",
    "val_ds = val_ds.batch(32)"
   ]
  },
  {
   "cell_type": "code",
   "execution_count": 294,
   "metadata": {},
   "outputs": [],
   "source": [
    "def encode_numerical_features(feature, name, dataset):\n",
    "    # Create a Normalization layer for our numerical feature\n",
    "    normalizer = tf.keras.layers.Normalization()\n",
    "    \n",
    "    # We get the feature from our dataset\n",
    "    feature_ds = dataset.map(lambda x,_: x[name])\n",
    "    feature_ds = feature_ds.map(lambda x: tf.expand_dims(x,-1))\n",
    "    \n",
    "    normalizer.adapt(feature_ds)\n",
    "    \n",
    "    encoded_feature = normalizer(feature)\n",
    "    return encoded_feature"
   ]
  },
  {
   "cell_type": "code",
   "execution_count": 295,
   "metadata": {},
   "outputs": [
    {
     "ename": "AttributeError",
     "evalue": "module 'keras._tf_keras.keras.layers' has no attribute 'StandardScaler'",
     "output_type": "error",
     "traceback": [
      "\u001b[0;31m---------------------------------------------------------------------------\u001b[0m",
      "\u001b[0;31mAttributeError\u001b[0m                            Traceback (most recent call last)",
      "Cell \u001b[0;32mIn[295], line 11\u001b[0m\n\u001b[1;32m      7\u001b[0m sds \u001b[38;5;241m=\u001b[39m tf\u001b[38;5;241m.\u001b[39mkeras\u001b[38;5;241m.\u001b[39mInput(shape\u001b[38;5;241m=\u001b[39m(\u001b[38;5;241m1\u001b[39m,),name\u001b[38;5;241m=\u001b[39m\u001b[38;5;124m\"\u001b[39m\u001b[38;5;124mSDS-SDS_Total_T\u001b[39m\u001b[38;5;124m\"\u001b[39m)\n\u001b[1;32m      8\u001b[0m internet \u001b[38;5;241m=\u001b[39m tf\u001b[38;5;241m.\u001b[39mkeras\u001b[38;5;241m.\u001b[39mInput(shape\u001b[38;5;241m=\u001b[39m(\u001b[38;5;241m1\u001b[39m,),name\u001b[38;5;241m=\u001b[39m\u001b[38;5;124m\"\u001b[39m\u001b[38;5;124mPreInt_EduHx-computerinternet_hoursday\u001b[39m\u001b[38;5;124m\"\u001b[39m)\n\u001b[0;32m---> 11\u001b[0m age_encoded \u001b[38;5;241m=\u001b[39m \u001b[43mencode_numerical_features\u001b[49m\u001b[43m(\u001b[49m\u001b[43mage\u001b[49m\u001b[43m,\u001b[49m\u001b[43m \u001b[49m\u001b[38;5;124;43m\"\u001b[39;49m\u001b[38;5;124;43mBasic_Demos-Age\u001b[39;49m\u001b[38;5;124;43m\"\u001b[39;49m\u001b[43m,\u001b[49m\u001b[43m \u001b[49m\u001b[43mtrain_ds\u001b[49m\u001b[43m)\u001b[49m\n\u001b[1;32m     12\u001b[0m bmi_encoded \u001b[38;5;241m=\u001b[39m encode_numerical_features(bmi, \u001b[38;5;124m\"\u001b[39m\u001b[38;5;124mPhysical-BMI\u001b[39m\u001b[38;5;124m\"\u001b[39m, train_ds)\n\u001b[1;32m     13\u001b[0m height_encoded \u001b[38;5;241m=\u001b[39m encode_numerical_features(height, \u001b[38;5;124m\"\u001b[39m\u001b[38;5;124mPhysical-Height\u001b[39m\u001b[38;5;124m\"\u001b[39m, train_ds)\n",
      "Cell \u001b[0;32mIn[294], line 3\u001b[0m, in \u001b[0;36mencode_numerical_features\u001b[0;34m(feature, name, dataset)\u001b[0m\n\u001b[1;32m      1\u001b[0m \u001b[38;5;28;01mdef\u001b[39;00m \u001b[38;5;21mencode_numerical_features\u001b[39m(feature, name, dataset):\n\u001b[1;32m      2\u001b[0m     \u001b[38;5;66;03m# Create a Normalization layer for our numerical feature\u001b[39;00m\n\u001b[0;32m----> 3\u001b[0m     normalizer \u001b[38;5;241m=\u001b[39m \u001b[43mtf\u001b[49m\u001b[38;5;241;43m.\u001b[39;49m\u001b[43mkeras\u001b[49m\u001b[38;5;241;43m.\u001b[39;49m\u001b[43mlayers\u001b[49m\u001b[38;5;241;43m.\u001b[39;49m\u001b[43mStandardScaler\u001b[49m()\n\u001b[1;32m      5\u001b[0m     \u001b[38;5;66;03m# We get the feature from our dataset\u001b[39;00m\n\u001b[1;32m      6\u001b[0m     feature_ds \u001b[38;5;241m=\u001b[39m dataset\u001b[38;5;241m.\u001b[39mmap(\u001b[38;5;28;01mlambda\u001b[39;00m x,_: x[name])\n",
      "\u001b[0;31mAttributeError\u001b[0m: module 'keras._tf_keras.keras.layers' has no attribute 'StandardScaler'"
     ]
    }
   ],
   "source": [
    "# Numerical features\n",
    "age = tf.keras.Input(shape=(1,),name=\"Basic_Demos-Age\")\n",
    "bmi = tf.keras.Input(shape=(1,),name=\"Physical-BMI\")\n",
    "height = tf.keras.Input(shape=(1,),name=\"Physical-Height\")\n",
    "weight = tf.keras.Input(shape=(1,),name=\"Physical-Weight\")\n",
    "fgc = tf.keras.Input(shape=(1,),name=\"FGC-FGC_CU\")\n",
    "sds = tf.keras.Input(shape=(1,),name=\"SDS-SDS_Total_T\")\n",
    "internet = tf.keras.Input(shape=(1,),name=\"PreInt_EduHx-computerinternet_hoursday\")\n",
    "\n",
    "\n",
    "age_encoded = encode_numerical_features(age, \"Basic_Demos-Age\", train_ds)\n",
    "bmi_encoded = encode_numerical_features(bmi, \"Physical-BMI\", train_ds)\n",
    "height_encoded = encode_numerical_features(height, \"Physical-Height\", train_ds)\n",
    "weight_encoded = encode_numerical_features(weight, \"Physical-Weight\", train_ds)\n",
    "fgc_encoded = encode_numerical_features(fgc, \"FGC-FGC_CU\", train_ds)\n",
    "sds_encoded = encode_numerical_features(sds, \"SDS-SDS_Total_T\", train_ds)\n",
    "internet_encoded = encode_numerical_features(internet, \"PreInt_EduHx-computerinternet_hoursday\", train_ds)\n",
    "\n",
    "all_inputs = [age,bmi,height,weight,fgc,sds,internet]\n",
    "\n",
    "all_features = tf.keras.layers.concatenate([\n",
    "\tage_encoded,\n",
    "\tbmi_encoded,\n",
    "\theight_encoded,\n",
    "\tweight_encoded,\n",
    "\tfgc_encoded,\n",
    "\tsds_encoded,\n",
    "\tinternet_encoded\n",
    "])\n",
    "\n",
    "\n",
    "x = tf.keras.layers.Dense(256, activation='relu')(all_features)\n",
    "x = tf.keras.layers.Dropout(0.5)(x)\n",
    "output = tf.keras.layers.Dense(1, activation='sigmoid')(x)\n",
    "\n",
    "model = tf.keras.Model(all_inputs, output)\n",
    "model.compile(\n",
    "    optimizer=tf.keras.optimizers.Adam(learning_rate=0.001),\n",
    "    loss=tf.keras.losses.BinaryCrossentropy(),\n",
    "    metrics=[tf.keras.metrics.Accuracy()])\n",
    "model.summary()"
   ]
  },
  {
   "cell_type": "code",
   "execution_count": 269,
   "metadata": {},
   "outputs": [
    {
     "name": "stdout",
     "output_type": "stream",
     "text": [
      "Epoch 1/50\n",
      "\u001b[1m69/69\u001b[0m \u001b[32m━━━━━━━━━━━━━━━━━━━━\u001b[0m\u001b[37m\u001b[0m \u001b[1m0s\u001b[0m 4ms/step - accuracy: 0.0000e+00 - auc: 0.7446 - loss: 0.5895 - val_accuracy: 0.0000e+00 - val_auc: 0.7373 - val_loss: 0.5836\n",
      "Epoch 2/50\n",
      "\u001b[1m69/69\u001b[0m \u001b[32m━━━━━━━━━━━━━━━━━━━━\u001b[0m\u001b[37m\u001b[0m \u001b[1m0s\u001b[0m 3ms/step - accuracy: 0.0000e+00 - auc: 0.7529 - loss: 0.5847 - val_accuracy: 0.0000e+00 - val_auc: 0.7434 - val_loss: 0.5802\n",
      "Epoch 3/50\n",
      "\u001b[1m69/69\u001b[0m \u001b[32m━━━━━━━━━━━━━━━━━━━━\u001b[0m\u001b[37m\u001b[0m \u001b[1m0s\u001b[0m 3ms/step - accuracy: 0.0000e+00 - auc: 0.7571 - loss: 0.5791 - val_accuracy: 0.0000e+00 - val_auc: 0.7427 - val_loss: 0.5821\n",
      "Epoch 4/50\n",
      "\u001b[1m69/69\u001b[0m \u001b[32m━━━━━━━━━━━━━━━━━━━━\u001b[0m\u001b[37m\u001b[0m \u001b[1m0s\u001b[0m 3ms/step - accuracy: 0.0000e+00 - auc: 0.7508 - loss: 0.5832 - val_accuracy: 0.0000e+00 - val_auc: 0.7433 - val_loss: 0.5795\n",
      "Epoch 5/50\n",
      "\u001b[1m69/69\u001b[0m \u001b[32m━━━━━━━━━━━━━━━━━━━━\u001b[0m\u001b[37m\u001b[0m \u001b[1m0s\u001b[0m 3ms/step - accuracy: 0.0000e+00 - auc: 0.7519 - loss: 0.5835 - val_accuracy: 0.0000e+00 - val_auc: 0.7377 - val_loss: 0.5877\n",
      "Epoch 6/50\n",
      "\u001b[1m69/69\u001b[0m \u001b[32m━━━━━━━━━━━━━━━━━━━━\u001b[0m\u001b[37m\u001b[0m \u001b[1m0s\u001b[0m 3ms/step - accuracy: 0.0000e+00 - auc: 0.7550 - loss: 0.5829 - val_accuracy: 0.0000e+00 - val_auc: 0.7476 - val_loss: 0.5781\n",
      "Epoch 7/50\n",
      "\u001b[1m69/69\u001b[0m \u001b[32m━━━━━━━━━━━━━━━━━━━━\u001b[0m\u001b[37m\u001b[0m \u001b[1m0s\u001b[0m 3ms/step - accuracy: 0.0000e+00 - auc: 0.7582 - loss: 0.5790 - val_accuracy: 0.0000e+00 - val_auc: 0.7449 - val_loss: 0.5789\n",
      "Epoch 8/50\n",
      "\u001b[1m69/69\u001b[0m \u001b[32m━━━━━━━━━━━━━━━━━━━━\u001b[0m\u001b[37m\u001b[0m \u001b[1m0s\u001b[0m 3ms/step - accuracy: 0.0000e+00 - auc: 0.7485 - loss: 0.5880 - val_accuracy: 0.0000e+00 - val_auc: 0.7435 - val_loss: 0.5830\n",
      "Epoch 9/50\n",
      "\u001b[1m69/69\u001b[0m \u001b[32m━━━━━━━━━━━━━━━━━━━━\u001b[0m\u001b[37m\u001b[0m \u001b[1m0s\u001b[0m 3ms/step - accuracy: 0.0000e+00 - auc: 0.7567 - loss: 0.5815 - val_accuracy: 0.0000e+00 - val_auc: 0.7419 - val_loss: 0.5806\n",
      "Epoch 10/50\n",
      "\u001b[1m69/69\u001b[0m \u001b[32m━━━━━━━━━━━━━━━━━━━━\u001b[0m\u001b[37m\u001b[0m \u001b[1m0s\u001b[0m 3ms/step - accuracy: 0.0000e+00 - auc: 0.7810 - loss: 0.5532 - val_accuracy: 0.0000e+00 - val_auc: 0.7341 - val_loss: 0.5864\n",
      "Epoch 11/50\n",
      "\u001b[1m69/69\u001b[0m \u001b[32m━━━━━━━━━━━━━━━━━━━━\u001b[0m\u001b[37m\u001b[0m \u001b[1m0s\u001b[0m 3ms/step - accuracy: 0.0000e+00 - auc: 0.7450 - loss: 0.5820 - val_accuracy: 0.0000e+00 - val_auc: 0.7386 - val_loss: 0.5838\n",
      "Epoch 12/50\n",
      "\u001b[1m69/69\u001b[0m \u001b[32m━━━━━━━━━━━━━━━━━━━━\u001b[0m\u001b[37m\u001b[0m \u001b[1m0s\u001b[0m 3ms/step - accuracy: 0.0000e+00 - auc: 0.7602 - loss: 0.5770 - val_accuracy: 0.0000e+00 - val_auc: 0.7425 - val_loss: 0.5788\n",
      "Epoch 13/50\n",
      "\u001b[1m69/69\u001b[0m \u001b[32m━━━━━━━━━━━━━━━━━━━━\u001b[0m\u001b[37m\u001b[0m \u001b[1m0s\u001b[0m 3ms/step - accuracy: 0.0000e+00 - auc: 0.7700 - loss: 0.5702 - val_accuracy: 0.0000e+00 - val_auc: 0.7459 - val_loss: 0.5799\n",
      "Epoch 14/50\n",
      "\u001b[1m69/69\u001b[0m \u001b[32m━━━━━━━━━━━━━━━━━━━━\u001b[0m\u001b[37m\u001b[0m \u001b[1m0s\u001b[0m 3ms/step - accuracy: 0.0000e+00 - auc: 0.7716 - loss: 0.5590 - val_accuracy: 0.0000e+00 - val_auc: 0.7435 - val_loss: 0.5801\n",
      "Epoch 15/50\n",
      "\u001b[1m69/69\u001b[0m \u001b[32m━━━━━━━━━━━━━━━━━━━━\u001b[0m\u001b[37m\u001b[0m \u001b[1m0s\u001b[0m 4ms/step - accuracy: 0.0000e+00 - auc: 0.7648 - loss: 0.5709 - val_accuracy: 0.0000e+00 - val_auc: 0.7434 - val_loss: 0.5865\n",
      "Epoch 16/50\n",
      "\u001b[1m69/69\u001b[0m \u001b[32m━━━━━━━━━━━━━━━━━━━━\u001b[0m\u001b[37m\u001b[0m \u001b[1m0s\u001b[0m 3ms/step - accuracy: 0.0000e+00 - auc: 0.7688 - loss: 0.5686 - val_accuracy: 0.0000e+00 - val_auc: 0.7493 - val_loss: 0.5761\n",
      "Epoch 17/50\n",
      "\u001b[1m69/69\u001b[0m \u001b[32m━━━━━━━━━━━━━━━━━━━━\u001b[0m\u001b[37m\u001b[0m \u001b[1m0s\u001b[0m 3ms/step - accuracy: 0.0000e+00 - auc: 0.7685 - loss: 0.5628 - val_accuracy: 0.0000e+00 - val_auc: 0.7509 - val_loss: 0.5745\n",
      "Epoch 18/50\n",
      "\u001b[1m69/69\u001b[0m \u001b[32m━━━━━━━━━━━━━━━━━━━━\u001b[0m\u001b[37m\u001b[0m \u001b[1m0s\u001b[0m 3ms/step - accuracy: 0.0000e+00 - auc: 0.7758 - loss: 0.5641 - val_accuracy: 0.0000e+00 - val_auc: 0.7493 - val_loss: 0.5750\n",
      "Epoch 19/50\n",
      "\u001b[1m69/69\u001b[0m \u001b[32m━━━━━━━━━━━━━━━━━━━━\u001b[0m\u001b[37m\u001b[0m \u001b[1m0s\u001b[0m 3ms/step - accuracy: 0.0000e+00 - auc: 0.7695 - loss: 0.5653 - val_accuracy: 0.0000e+00 - val_auc: 0.7507 - val_loss: 0.5731\n",
      "Epoch 20/50\n",
      "\u001b[1m69/69\u001b[0m \u001b[32m━━━━━━━━━━━━━━━━━━━━\u001b[0m\u001b[37m\u001b[0m \u001b[1m0s\u001b[0m 3ms/step - accuracy: 0.0000e+00 - auc: 0.7758 - loss: 0.5613 - val_accuracy: 0.0000e+00 - val_auc: 0.7448 - val_loss: 0.5787\n",
      "Epoch 21/50\n",
      "\u001b[1m69/69\u001b[0m \u001b[32m━━━━━━━━━━━━━━━━━━━━\u001b[0m\u001b[37m\u001b[0m \u001b[1m0s\u001b[0m 3ms/step - accuracy: 0.0000e+00 - auc: 0.7710 - loss: 0.5655 - val_accuracy: 0.0000e+00 - val_auc: 0.7442 - val_loss: 0.5795\n",
      "Epoch 22/50\n",
      "\u001b[1m69/69\u001b[0m \u001b[32m━━━━━━━━━━━━━━━━━━━━\u001b[0m\u001b[37m\u001b[0m \u001b[1m0s\u001b[0m 3ms/step - accuracy: 0.0000e+00 - auc: 0.7645 - loss: 0.5700 - val_accuracy: 0.0000e+00 - val_auc: 0.7516 - val_loss: 0.5765\n",
      "Epoch 23/50\n",
      "\u001b[1m69/69\u001b[0m \u001b[32m━━━━━━━━━━━━━━━━━━━━\u001b[0m\u001b[37m\u001b[0m \u001b[1m0s\u001b[0m 3ms/step - accuracy: 0.0000e+00 - auc: 0.7620 - loss: 0.5728 - val_accuracy: 0.0000e+00 - val_auc: 0.7524 - val_loss: 0.5731\n",
      "Epoch 24/50\n",
      "\u001b[1m69/69\u001b[0m \u001b[32m━━━━━━━━━━━━━━━━━━━━\u001b[0m\u001b[37m\u001b[0m \u001b[1m0s\u001b[0m 3ms/step - accuracy: 0.0000e+00 - auc: 0.7726 - loss: 0.5603 - val_accuracy: 0.0000e+00 - val_auc: 0.7527 - val_loss: 0.5735\n",
      "Epoch 25/50\n",
      "\u001b[1m69/69\u001b[0m \u001b[32m━━━━━━━━━━━━━━━━━━━━\u001b[0m\u001b[37m\u001b[0m \u001b[1m0s\u001b[0m 3ms/step - accuracy: 0.0000e+00 - auc: 0.7719 - loss: 0.5636 - val_accuracy: 0.0000e+00 - val_auc: 0.7512 - val_loss: 0.5765\n",
      "Epoch 26/50\n",
      "\u001b[1m69/69\u001b[0m \u001b[32m━━━━━━━━━━━━━━━━━━━━\u001b[0m\u001b[37m\u001b[0m \u001b[1m0s\u001b[0m 3ms/step - accuracy: 0.0000e+00 - auc: 0.7842 - loss: 0.5542 - val_accuracy: 0.0000e+00 - val_auc: 0.7472 - val_loss: 0.5766\n",
      "Epoch 27/50\n",
      "\u001b[1m69/69\u001b[0m \u001b[32m━━━━━━━━━━━━━━━━━━━━\u001b[0m\u001b[37m\u001b[0m \u001b[1m0s\u001b[0m 3ms/step - accuracy: 0.0000e+00 - auc: 0.7698 - loss: 0.5675 - val_accuracy: 0.0000e+00 - val_auc: 0.7480 - val_loss: 0.5774\n",
      "Epoch 28/50\n",
      "\u001b[1m69/69\u001b[0m \u001b[32m━━━━━━━━━━━━━━━━━━━━\u001b[0m\u001b[37m\u001b[0m \u001b[1m0s\u001b[0m 3ms/step - accuracy: 0.0000e+00 - auc: 0.7709 - loss: 0.5712 - val_accuracy: 0.0000e+00 - val_auc: 0.7550 - val_loss: 0.5739\n",
      "Epoch 29/50\n",
      "\u001b[1m69/69\u001b[0m \u001b[32m━━━━━━━━━━━━━━━━━━━━\u001b[0m\u001b[37m\u001b[0m \u001b[1m0s\u001b[0m 4ms/step - accuracy: 0.0000e+00 - auc: 0.7885 - loss: 0.5480 - val_accuracy: 0.0000e+00 - val_auc: 0.7477 - val_loss: 0.5769\n",
      "Epoch 30/50\n",
      "\u001b[1m69/69\u001b[0m \u001b[32m━━━━━━━━━━━━━━━━━━━━\u001b[0m\u001b[37m\u001b[0m \u001b[1m0s\u001b[0m 3ms/step - accuracy: 0.0000e+00 - auc: 0.7616 - loss: 0.5740 - val_accuracy: 0.0000e+00 - val_auc: 0.7545 - val_loss: 0.5768\n",
      "Epoch 31/50\n",
      "\u001b[1m69/69\u001b[0m \u001b[32m━━━━━━━━━━━━━━━━━━━━\u001b[0m\u001b[37m\u001b[0m \u001b[1m0s\u001b[0m 3ms/step - accuracy: 0.0000e+00 - auc: 0.7771 - loss: 0.5622 - val_accuracy: 0.0000e+00 - val_auc: 0.7561 - val_loss: 0.5711\n",
      "Epoch 32/50\n",
      "\u001b[1m69/69\u001b[0m \u001b[32m━━━━━━━━━━━━━━━━━━━━\u001b[0m\u001b[37m\u001b[0m \u001b[1m0s\u001b[0m 3ms/step - accuracy: 0.0000e+00 - auc: 0.7707 - loss: 0.5640 - val_accuracy: 0.0000e+00 - val_auc: 0.7505 - val_loss: 0.5772\n",
      "Epoch 33/50\n",
      "\u001b[1m69/69\u001b[0m \u001b[32m━━━━━━━━━━━━━━━━━━━━\u001b[0m\u001b[37m\u001b[0m \u001b[1m0s\u001b[0m 3ms/step - accuracy: 0.0000e+00 - auc: 0.7618 - loss: 0.5716 - val_accuracy: 0.0000e+00 - val_auc: 0.7483 - val_loss: 0.5764\n",
      "Epoch 34/50\n",
      "\u001b[1m69/69\u001b[0m \u001b[32m━━━━━━━━━━━━━━━━━━━━\u001b[0m\u001b[37m\u001b[0m \u001b[1m0s\u001b[0m 3ms/step - accuracy: 0.0000e+00 - auc: 0.7610 - loss: 0.5745 - val_accuracy: 0.0000e+00 - val_auc: 0.7544 - val_loss: 0.5764\n",
      "Epoch 35/50\n",
      "\u001b[1m69/69\u001b[0m \u001b[32m━━━━━━━━━━━━━━━━━━━━\u001b[0m\u001b[37m\u001b[0m \u001b[1m0s\u001b[0m 3ms/step - accuracy: 0.0000e+00 - auc: 0.7779 - loss: 0.5547 - val_accuracy: 0.0000e+00 - val_auc: 0.7535 - val_loss: 0.5757\n",
      "Epoch 36/50\n",
      "\u001b[1m69/69\u001b[0m \u001b[32m━━━━━━━━━━━━━━━━━━━━\u001b[0m\u001b[37m\u001b[0m \u001b[1m0s\u001b[0m 3ms/step - accuracy: 0.0000e+00 - auc: 0.7973 - loss: 0.5352 - val_accuracy: 0.0000e+00 - val_auc: 0.7517 - val_loss: 0.5743\n",
      "Epoch 37/50\n",
      "\u001b[1m69/69\u001b[0m \u001b[32m━━━━━━━━━━━━━━━━━━━━\u001b[0m\u001b[37m\u001b[0m \u001b[1m0s\u001b[0m 3ms/step - accuracy: 0.0000e+00 - auc: 0.7829 - loss: 0.5520 - val_accuracy: 0.0000e+00 - val_auc: 0.7524 - val_loss: 0.5736\n",
      "Epoch 38/50\n",
      "\u001b[1m69/69\u001b[0m \u001b[32m━━━━━━━━━━━━━━━━━━━━\u001b[0m\u001b[37m\u001b[0m \u001b[1m0s\u001b[0m 3ms/step - accuracy: 0.0000e+00 - auc: 0.7841 - loss: 0.5583 - val_accuracy: 0.0000e+00 - val_auc: 0.7555 - val_loss: 0.5732\n",
      "Epoch 39/50\n",
      "\u001b[1m69/69\u001b[0m \u001b[32m━━━━━━━━━━━━━━━━━━━━\u001b[0m\u001b[37m\u001b[0m \u001b[1m0s\u001b[0m 3ms/step - accuracy: 0.0000e+00 - auc: 0.7967 - loss: 0.5413 - val_accuracy: 0.0000e+00 - val_auc: 0.7553 - val_loss: 0.5695\n",
      "Epoch 40/50\n",
      "\u001b[1m69/69\u001b[0m \u001b[32m━━━━━━━━━━━━━━━━━━━━\u001b[0m\u001b[37m\u001b[0m \u001b[1m0s\u001b[0m 3ms/step - accuracy: 0.0000e+00 - auc: 0.7741 - loss: 0.5651 - val_accuracy: 0.0000e+00 - val_auc: 0.7576 - val_loss: 0.5724\n",
      "Epoch 41/50\n",
      "\u001b[1m69/69\u001b[0m \u001b[32m━━━━━━━━━━━━━━━━━━━━\u001b[0m\u001b[37m\u001b[0m \u001b[1m0s\u001b[0m 3ms/step - accuracy: 0.0000e+00 - auc: 0.8005 - loss: 0.5385 - val_accuracy: 0.0000e+00 - val_auc: 0.7585 - val_loss: 0.5676\n",
      "Epoch 42/50\n",
      "\u001b[1m69/69\u001b[0m \u001b[32m━━━━━━━━━━━━━━━━━━━━\u001b[0m\u001b[37m\u001b[0m \u001b[1m0s\u001b[0m 3ms/step - accuracy: 0.0000e+00 - auc: 0.7908 - loss: 0.5483 - val_accuracy: 0.0000e+00 - val_auc: 0.7610 - val_loss: 0.5688\n",
      "Epoch 43/50\n",
      "\u001b[1m69/69\u001b[0m \u001b[32m━━━━━━━━━━━━━━━━━━━━\u001b[0m\u001b[37m\u001b[0m \u001b[1m0s\u001b[0m 3ms/step - accuracy: 0.0000e+00 - auc: 0.7755 - loss: 0.5613 - val_accuracy: 0.0000e+00 - val_auc: 0.7529 - val_loss: 0.5725\n",
      "Epoch 44/50\n",
      "\u001b[1m69/69\u001b[0m \u001b[32m━━━━━━━━━━━━━━━━━━━━\u001b[0m\u001b[37m\u001b[0m \u001b[1m0s\u001b[0m 3ms/step - accuracy: 0.0000e+00 - auc: 0.7780 - loss: 0.5643 - val_accuracy: 0.0000e+00 - val_auc: 0.7580 - val_loss: 0.5709\n",
      "Epoch 45/50\n",
      "\u001b[1m69/69\u001b[0m \u001b[32m━━━━━━━━━━━━━━━━━━━━\u001b[0m\u001b[37m\u001b[0m \u001b[1m0s\u001b[0m 3ms/step - accuracy: 0.0000e+00 - auc: 0.7787 - loss: 0.5595 - val_accuracy: 0.0000e+00 - val_auc: 0.7409 - val_loss: 0.5896\n",
      "Epoch 46/50\n",
      "\u001b[1m69/69\u001b[0m \u001b[32m━━━━━━━━━━━━━━━━━━━━\u001b[0m\u001b[37m\u001b[0m \u001b[1m0s\u001b[0m 3ms/step - accuracy: 0.0000e+00 - auc: 0.7832 - loss: 0.5499 - val_accuracy: 0.0000e+00 - val_auc: 0.7508 - val_loss: 0.5746\n",
      "Epoch 47/50\n",
      "\u001b[1m69/69\u001b[0m \u001b[32m━━━━━━━━━━━━━━━━━━━━\u001b[0m\u001b[37m\u001b[0m \u001b[1m0s\u001b[0m 3ms/step - accuracy: 0.0000e+00 - auc: 0.7931 - loss: 0.5428 - val_accuracy: 0.0000e+00 - val_auc: 0.7571 - val_loss: 0.5697\n",
      "Epoch 48/50\n",
      "\u001b[1m69/69\u001b[0m \u001b[32m━━━━━━━━━━━━━━━━━━━━\u001b[0m\u001b[37m\u001b[0m \u001b[1m0s\u001b[0m 4ms/step - accuracy: 0.0000e+00 - auc: 0.7838 - loss: 0.5484 - val_accuracy: 0.0000e+00 - val_auc: 0.7493 - val_loss: 0.5765\n",
      "Epoch 49/50\n",
      "\u001b[1m69/69\u001b[0m \u001b[32m━━━━━━━━━━━━━━━━━━━━\u001b[0m\u001b[37m\u001b[0m \u001b[1m0s\u001b[0m 3ms/step - accuracy: 0.0000e+00 - auc: 0.7911 - loss: 0.5470 - val_accuracy: 0.0000e+00 - val_auc: 0.7496 - val_loss: 0.5765\n",
      "Epoch 50/50\n",
      "\u001b[1m69/69\u001b[0m \u001b[32m━━━━━━━━━━━━━━━━━━━━\u001b[0m\u001b[37m\u001b[0m \u001b[1m0s\u001b[0m 3ms/step - accuracy: 0.0000e+00 - auc: 0.8009 - loss: 0.5411 - val_accuracy: 0.0000e+00 - val_auc: 0.7547 - val_loss: 0.5754\n"
     ]
    }
   ],
   "source": [
    "history = model.fit(train_ds, epochs=50, validation_data=val_ds, verbose=1)"
   ]
  },
  {
   "cell_type": "code",
   "execution_count": 270,
   "metadata": {},
   "outputs": [
    {
     "data": {
      "image/png": "[encoded data removed]",
      "text/plain": [
       "<Figure size 640x480 with 1 Axes>"
      ]
     },
     "metadata": {},
     "output_type": "display_data"
    }
   ],
   "source": [
    "import matplotlib.pyplot as plt\n",
    "\n",
    "# Extract loss values\n",
    "train_loss = history.history['loss']\n",
    "val_loss = history.history['val_loss']\n",
    "\n",
    "# Plot the training and validation loss\n",
    "epochs = range(1, len(train_loss) + 1)\n",
    "\n",
    "plt.plot(epochs, train_loss, 'bo-', label='Training Loss')\n",
    "plt.plot(epochs, val_loss, 'ro-', label='Validation Loss')\n",
    "plt.title('Training and Validation Loss')\n",
    "plt.xlabel('Epochs')\n",
    "plt.ylabel('Loss')\n",
    "plt.legend()\n",
    "plt.show()"
   ]
  },
  {
   "cell_type": "code",
   "execution_count": 271,
   "metadata": {},
   "outputs": [
    {
     "name": "stdout",
     "output_type": "stream",
     "text": [
      "\u001b[1m18/18\u001b[0m \u001b[32m━━━━━━━━━━━━━━━━━━━━\u001b[0m\u001b[37m\u001b[0m \u001b[1m0s\u001b[0m 3ms/step\n"
     ]
    },
    {
     "data": {
      "text/plain": [
       "array([9.11553979e-01, 4.92480904e-01, 8.38457108e-01, 2.39383772e-01,\n",
       "       1.11801013e-01, 2.38536477e-01, 6.84836864e-01, 1.88896671e-01,\n",
       "       2.42617622e-01, 6.17381990e-01, 4.02283281e-01, 8.97174105e-02,\n",
       "       1.70708358e-01, 6.05681717e-01, 3.66511136e-01, 5.95522761e-01,\n",
       "       3.43939602e-01, 1.01065747e-01, 5.36357641e-01, 5.06324291e-01,\n",
       "       2.51791328e-01, 7.30775774e-01, 1.78896904e-01, 2.45123789e-01,\n",
       "       5.14247954e-01, 8.78248960e-02, 2.21970499e-01, 1.91522151e-01,\n",
       "       4.34579849e-01, 4.58385170e-01, 1.37817591e-01, 5.02880394e-01,\n",
       "       2.33541712e-01, 5.51588178e-01, 1.28110304e-01, 1.81551367e-01,\n",
       "       6.58022165e-01, 4.75106180e-01, 3.78808767e-01, 6.17456198e-01,\n",
       "       1.61136940e-01, 1.08301267e-01, 5.91505229e-01, 2.69578874e-01,\n",
       "       1.40063465e-01, 1.00884192e-01, 2.39906266e-01, 4.83990431e-01,\n",
       "       1.14521049e-01, 9.10290301e-01, 8.28597546e-01, 2.05119371e-01,\n",
       "       3.00751746e-01, 5.03113389e-01, 2.46256396e-01, 3.77601683e-01,\n",
       "       1.46673054e-01, 5.82194149e-01, 2.81472534e-01, 8.03920388e-01,\n",
       "       5.05280793e-01, 9.60575119e-02, 4.18832839e-01, 8.65431204e-02,\n",
       "       3.77348363e-02, 6.95883095e-01, 1.32719263e-01, 1.15117215e-01,\n",
       "       1.22565605e-01, 6.33968115e-01, 1.27764627e-01, 2.63417840e-01,\n",
       "       2.08256483e-01, 2.87065327e-01, 2.85237432e-01, 2.91381240e-01,\n",
       "       8.16013932e-01, 6.29588783e-01, 2.33259037e-01, 3.10255349e-01,\n",
       "       8.80965069e-02, 7.26699948e-01, 3.91397446e-01, 4.36888009e-01,\n",
       "       2.26846024e-01, 3.88029695e-01, 4.05944705e-01, 6.43004358e-01,\n",
       "       3.92109454e-01, 2.39022225e-01, 2.66945213e-01, 1.39071241e-01,\n",
       "       3.12019289e-01, 2.12061659e-01, 1.20720744e-01, 8.92335400e-02,\n",
       "       5.07790685e-01, 1.14646241e-01, 2.44578063e-01, 1.20241717e-01,\n",
       "       1.08562201e-01, 1.40099168e-01, 4.52316135e-01, 5.79218686e-01,\n",
       "       1.47744060e-01, 6.10499620e-01, 4.02224153e-01, 5.90942621e-01,\n",
       "       4.06617790e-01, 2.41235361e-01, 2.88363844e-01, 4.13735360e-01,\n",
       "       3.66547942e-01, 8.56541574e-01, 8.03380683e-02, 1.27586395e-01,\n",
       "       7.22347260e-01, 3.63592446e-01, 8.70646387e-02, 7.24227056e-02,\n",
       "       3.46514851e-01, 3.75909775e-01, 5.21499872e-01, 2.94042647e-01,\n",
       "       6.79987252e-01, 8.82408619e-01, 6.68711305e-01, 1.51999384e-01,\n",
       "       1.09598339e-01, 3.25800359e-01, 6.56876802e-01, 1.66462809e-01,\n",
       "       2.32842878e-01, 5.57179868e-01, 1.91042662e-01, 5.57789922e-01,\n",
       "       1.84813827e-01, 1.23086676e-01, 6.87278211e-01, 6.85536861e-01,\n",
       "       9.51297343e-01, 9.58383977e-01, 3.11293095e-01, 2.99390942e-01,\n",
       "       5.45962453e-01, 8.83404091e-02, 6.11977816e-01, 1.37661308e-01,\n",
       "       3.88770550e-01, 5.93315482e-01, 2.70072103e-01, 5.00699341e-01,\n",
       "       5.26905715e-01, 5.30249298e-01, 4.68425691e-01, 2.38567472e-01,\n",
       "       4.62651461e-01, 6.51697636e-01, 4.28164601e-01, 6.18461072e-01,\n",
       "       1.56445622e-01, 3.27876240e-01, 4.67922688e-01, 3.53191108e-01,\n",
       "       7.48088419e-01, 9.51378793e-02, 1.80614784e-01, 3.73606175e-01,\n",
       "       2.02796564e-01, 3.02875131e-01, 1.88414812e-01, 1.26747102e-01,\n",
       "       6.91664636e-01, 1.18308477e-01, 5.92254162e-01, 9.46135223e-01,\n",
       "       5.94352424e-01, 7.23698676e-01, 7.96783447e-01, 6.56785488e-01,\n",
       "       1.32090539e-01, 6.25562429e-01, 1.52653322e-01, 8.95493552e-02,\n",
       "       1.06139228e-01, 9.01951373e-01, 7.33200669e-01, 5.42699516e-01,\n",
       "       1.73802868e-01, 2.29552403e-01, 4.13925678e-01, 1.17769308e-01,\n",
       "       8.00883099e-02, 1.35685489e-01, 3.76090646e-01, 6.32393897e-01,\n",
       "       5.22447824e-01, 1.15029961e-01, 5.87980449e-01, 4.31350231e-01,\n",
       "       6.63680911e-01, 4.68817145e-01, 9.49520841e-02, 7.24547565e-01,\n",
       "       1.50776342e-01, 3.51470381e-01, 1.17768764e-01, 2.92159557e-01,\n",
       "       3.02920222e-01, 1.22450173e-01, 1.65326133e-01, 1.82601571e-01,\n",
       "       2.41259441e-01, 5.04796803e-01, 5.84821820e-01, 1.83249816e-01,\n",
       "       2.51822650e-01, 5.35488725e-01, 1.60119295e-01, 1.03248425e-01,\n",
       "       3.08674008e-01, 2.56104469e-01, 3.14586878e-01, 1.40177086e-01,\n",
       "       2.00324297e-01, 2.23245874e-01, 5.57573080e-01, 1.12487823e-01,\n",
       "       5.71582556e-01, 8.64823610e-02, 5.16757131e-01, 1.13116495e-01,\n",
       "       5.79048455e-01, 6.26438498e-01, 4.44739103e-01, 1.17947519e-01,\n",
       "       7.61085451e-01, 2.36032233e-01, 5.46124279e-01, 4.26961571e-01,\n",
       "       1.59868717e-01, 3.78844380e-01, 4.67540920e-01, 8.17334175e-01,\n",
       "       1.19284980e-01, 7.37540424e-01, 1.03314050e-01, 3.04870605e-01,\n",
       "       1.86978281e-01, 5.72176695e-01, 4.53085704e-06, 7.11668804e-02,\n",
       "       1.14096642e-01, 1.28591955e-01, 6.56808197e-01, 6.43843889e-01,\n",
       "       8.90741050e-01, 5.57400703e-01, 5.13917863e-01, 1.27433956e-01,\n",
       "       2.28150368e-01, 7.00240791e-01, 5.75523436e-01, 2.18360916e-01,\n",
       "       2.42159367e-01, 1.01194412e-01, 2.99070537e-01, 2.81833112e-01,\n",
       "       2.70526856e-01, 8.42107415e-01, 1.04294389e-01, 2.18514919e-01,\n",
       "       6.67175949e-01, 6.31899118e-01, 4.17265207e-01, 3.29889990e-02,\n",
       "       4.32669133e-01, 1.96596563e-01, 7.68449605e-01, 1.79526910e-01,\n",
       "       8.92027467e-02, 9.44242328e-02, 4.58753735e-01, 3.49109441e-01,\n",
       "       1.61716059e-01, 1.31106108e-01, 3.15856099e-01, 6.81613147e-01,\n",
       "       4.06486362e-01, 3.68856758e-01, 1.99540332e-01, 1.75747231e-01,\n",
       "       4.42872979e-02, 2.87583172e-01, 6.64483726e-01, 1.54878736e-01,\n",
       "       7.72853553e-01, 1.58893496e-01, 8.17759410e-02, 6.45833492e-01,\n",
       "       1.99232295e-01, 6.46023035e-01, 1.54818326e-01, 9.49242637e-02,\n",
       "       4.80663419e-01, 3.28118712e-01, 1.24196090e-01, 2.78977007e-01,\n",
       "       6.43529415e-01, 1.36336580e-01, 1.74106017e-01, 9.02466178e-02,\n",
       "       2.08951831e-02, 2.04710260e-01, 3.54427874e-01, 7.06996024e-01,\n",
       "       2.40239531e-01, 6.89185441e-01, 1.83619142e-01, 1.01931810e-01,\n",
       "       2.80321509e-01, 1.02976426e-01, 8.58610570e-01, 1.33246243e-01,\n",
       "       1.46669388e-01, 7.61929274e-01, 5.65006733e-01, 2.38923267e-01,\n",
       "       2.09389061e-01, 4.61174935e-01, 7.38198876e-01, 3.34657520e-01,\n",
       "       8.75802279e-01, 1.12320885e-01, 7.02012122e-01, 7.78703690e-02,\n",
       "       2.66543090e-01, 8.17338005e-02, 3.01156253e-01, 4.05735880e-01,\n",
       "       8.00932944e-01, 1.13775060e-01, 2.94357181e-01, 9.99107659e-02,\n",
       "       5.65738499e-01, 2.53922164e-01, 4.28080469e-01, 2.11038694e-01,\n",
       "       1.82845280e-01, 2.31351078e-01, 1.23867482e-01, 2.98032731e-01,\n",
       "       2.03124806e-01, 5.79823911e-01, 7.23182857e-01, 5.60858905e-01,\n",
       "       2.89374262e-01, 8.38742703e-02, 2.77595252e-01, 1.82783410e-01,\n",
       "       1.29673943e-01, 9.50023830e-02, 2.83207357e-01, 5.86570561e-01,\n",
       "       2.92064875e-01, 2.64934331e-01, 4.13511157e-01, 2.31539160e-01,\n",
       "       4.40648228e-01, 9.58765596e-02, 1.87173918e-01, 6.47983015e-01,\n",
       "       1.05711661e-01, 5.43902576e-01, 7.39866018e-01, 2.04305977e-01,\n",
       "       9.04970095e-02, 1.39847572e-03, 4.38991129e-01, 1.84155211e-01,\n",
       "       1.12103276e-01, 2.19996229e-01, 1.01163156e-01, 2.62075245e-01,\n",
       "       3.47786993e-01, 6.01277769e-01, 6.67472124e-01, 1.67696893e-01,\n",
       "       4.11446452e-01, 4.89990026e-01, 3.35956872e-01, 1.25008300e-01,\n",
       "       1.20356359e-01, 1.00631200e-01, 2.03770399e-01, 5.75136304e-01,\n",
       "       1.83396369e-01, 1.49932832e-01, 4.18854237e-01, 1.41338006e-01,\n",
       "       3.95989120e-01, 7.50743628e-01, 1.42789826e-01, 4.33434576e-01,\n",
       "       4.50107127e-01, 1.37424022e-01, 3.96544814e-01, 5.87327302e-01,\n",
       "       7.14262068e-01, 6.77922547e-01, 2.46119574e-01, 2.23010048e-01,\n",
       "       1.88878700e-01, 1.29711032e-01, 4.87365693e-01, 2.14278042e-01,\n",
       "       3.61632437e-01, 2.92799711e-01, 9.87630859e-02, 4.96760279e-01,\n",
       "       6.13442242e-01, 1.65297970e-01, 2.01268256e-01, 5.24078846e-01,\n",
       "       6.72748506e-01, 1.26002431e-01, 3.64483953e-01, 6.90258861e-01,\n",
       "       1.41097188e-01, 1.59609661e-01, 7.68484697e-02, 3.90783340e-01,\n",
       "       1.21188991e-01, 1.44607827e-01, 3.08719337e-01, 8.63582313e-01,\n",
       "       1.82610795e-01, 6.85116172e-01, 2.56462723e-01, 7.93940783e-01,\n",
       "       4.18225229e-01, 6.73873127e-01, 1.18886486e-01, 6.97986305e-01,\n",
       "       7.04403996e-01, 1.43962443e-01, 7.40363955e-01, 4.34885830e-01,\n",
       "       1.41468748e-01, 3.30909044e-01, 2.43991658e-01, 8.03179860e-01,\n",
       "       4.91745681e-01, 9.92946327e-02, 4.10742313e-01, 6.59863651e-01,\n",
       "       6.10599160e-01, 1.85966432e-01, 3.72971356e-01, 3.14162403e-01,\n",
       "       2.94574350e-01, 5.14344215e-01, 5.85406244e-01, 6.48416698e-01,\n",
       "       1.65781751e-01, 5.11269331e-01, 9.00979638e-01, 1.16139911e-01,\n",
       "       7.07706153e-01, 7.67216563e-01, 1.44717142e-01, 4.86975998e-01,\n",
       "       5.71890175e-01, 2.05728084e-01, 1.12512723e-01, 6.26689851e-01,\n",
       "       9.16950107e-02, 4.22081798e-01, 2.37498447e-01, 1.91356480e-01,\n",
       "       3.88524055e-01, 1.65510193e-01, 5.24336636e-01, 1.23220794e-01,\n",
       "       9.36863646e-02, 4.74317193e-01, 1.39230624e-01, 6.72421396e-01,\n",
       "       1.38058633e-01, 1.96868584e-01, 7.30227888e-01, 7.00094163e-01,\n",
       "       9.39126164e-02, 2.91983783e-01, 6.73449218e-01, 6.08312376e-02,\n",
       "       1.88878700e-01, 2.67349839e-01, 3.40130836e-01, 1.73885286e-01,\n",
       "       2.87747711e-01, 1.65650174e-01, 6.60216630e-01, 1.77970558e-01,\n",
       "       1.64417803e-01, 3.08278888e-01, 1.51740715e-01, 2.61723250e-01,\n",
       "       6.03168488e-01, 3.94912928e-01, 2.91136473e-01, 2.20626682e-01,\n",
       "       4.06867355e-01, 3.33134890e-01, 6.43847883e-01, 2.44069397e-01,\n",
       "       3.91621560e-01, 4.26472068e-01, 5.06874025e-01, 6.70652092e-01,\n",
       "       7.03792095e-01, 6.54099286e-01, 2.92819709e-01, 4.12548274e-01,\n",
       "       1.68391824e-01, 1.94279194e-01, 1.32312417e-01, 7.23859608e-01,\n",
       "       5.42826772e-01, 3.10431957e-01, 5.76115429e-01, 3.94633383e-01,\n",
       "       1.55440852e-01, 8.34464669e-01, 1.01975113e-01, 1.45249531e-01,\n",
       "       2.26310432e-01, 6.68741882e-01, 1.75505310e-01, 1.12441286e-01,\n",
       "       4.02326643e-01, 3.44106168e-01, 6.18731260e-01, 7.07608163e-01,\n",
       "       2.25258708e-01, 3.46952140e-01, 2.83583194e-01], dtype=float32)"
      ]
     },
     "execution_count": 271,
     "metadata": {},
     "output_type": "execute_result"
    }
   ],
   "source": [
    "import collections\n",
    "predictions = model.predict(val_ds).ravel()\n",
    "#counter = collections.Counter(predictions)\n",
    "#counter\n",
    "predictions"
   ]
  },
  {
   "cell_type": "code",
   "execution_count": 272,
   "metadata": {},
   "outputs": [
    {
     "data": {
      "text/html": [
       "<pre style=\"white-space:pre;overflow-x:auto;line-height:normal;font-family:Menlo,'DejaVu Sans Mono',consolas,'Courier New',monospace\"><span style=\"font-weight: bold\">Model: \"functional\"</span>\n",
       "</pre>\n"
      ],
      "text/plain": [
       "\u001b[1mModel: \"functional\"\u001b[0m\n"
      ]
     },
     "metadata": {},
     "output_type": "display_data"
    },
    {
     "data": {
      "text/html": [
       "<pre style=\"white-space:pre;overflow-x:auto;line-height:normal;font-family:Menlo,'DejaVu Sans Mono',consolas,'Courier New',monospace\">┏━━━━━━━━━━━━━━━━━━━━━┳━━━━━━━━━━━━━━━━━━━┳━━━━━━━━━━━━┳━━━━━━━━━━━━━━━━━━━┓\n",
       "┃<span style=\"font-weight: bold\"> Layer (type)        </span>┃<span style=\"font-weight: bold\"> Output Shape      </span>┃<span style=\"font-weight: bold\">    Param # </span>┃<span style=\"font-weight: bold\"> Connected to      </span>┃\n",
       "┡━━━━━━━━━━━━━━━━━━━━━╇━━━━━━━━━━━━━━━━━━━╇━━━━━━━━━━━━╇━━━━━━━━━━━━━━━━━━━┩\n",
       "│ Basic_Demos-Age     │ (<span style=\"color: #00d7ff; text-decoration-color: #00d7ff\">None</span>, <span style=\"color: #00af00; text-decoration-color: #00af00\">1</span>)         │          <span style=\"color: #00af00; text-decoration-color: #00af00\">0</span> │ -                 │\n",
       "│ (<span style=\"color: #0087ff; text-decoration-color: #0087ff\">InputLayer</span>)        │                   │            │                   │\n",
       "├─────────────────────┼───────────────────┼────────────┼───────────────────┤\n",
       "│ Physical-BMI        │ (<span style=\"color: #00d7ff; text-decoration-color: #00d7ff\">None</span>, <span style=\"color: #00af00; text-decoration-color: #00af00\">1</span>)         │          <span style=\"color: #00af00; text-decoration-color: #00af00\">0</span> │ -                 │\n",
       "│ (<span style=\"color: #0087ff; text-decoration-color: #0087ff\">InputLayer</span>)        │                   │            │                   │\n",
       "├─────────────────────┼───────────────────┼────────────┼───────────────────┤\n",
       "│ Physical-Height     │ (<span style=\"color: #00d7ff; text-decoration-color: #00d7ff\">None</span>, <span style=\"color: #00af00; text-decoration-color: #00af00\">1</span>)         │          <span style=\"color: #00af00; text-decoration-color: #00af00\">0</span> │ -                 │\n",
       "│ (<span style=\"color: #0087ff; text-decoration-color: #0087ff\">InputLayer</span>)        │                   │            │                   │\n",
       "├─────────────────────┼───────────────────┼────────────┼───────────────────┤\n",
       "│ Physical-Weight     │ (<span style=\"color: #00d7ff; text-decoration-color: #00d7ff\">None</span>, <span style=\"color: #00af00; text-decoration-color: #00af00\">1</span>)         │          <span style=\"color: #00af00; text-decoration-color: #00af00\">0</span> │ -                 │\n",
       "│ (<span style=\"color: #0087ff; text-decoration-color: #0087ff\">InputLayer</span>)        │                   │            │                   │\n",
       "├─────────────────────┼───────────────────┼────────────┼───────────────────┤\n",
       "│ FGC-FGC_CU          │ (<span style=\"color: #00d7ff; text-decoration-color: #00d7ff\">None</span>, <span style=\"color: #00af00; text-decoration-color: #00af00\">1</span>)         │          <span style=\"color: #00af00; text-decoration-color: #00af00\">0</span> │ -                 │\n",
       "│ (<span style=\"color: #0087ff; text-decoration-color: #0087ff\">InputLayer</span>)        │                   │            │                   │\n",
       "├─────────────────────┼───────────────────┼────────────┼───────────────────┤\n",
       "│ SDS-SDS_Total_T     │ (<span style=\"color: #00d7ff; text-decoration-color: #00d7ff\">None</span>, <span style=\"color: #00af00; text-decoration-color: #00af00\">1</span>)         │          <span style=\"color: #00af00; text-decoration-color: #00af00\">0</span> │ -                 │\n",
       "│ (<span style=\"color: #0087ff; text-decoration-color: #0087ff\">InputLayer</span>)        │                   │            │                   │\n",
       "├─────────────────────┼───────────────────┼────────────┼───────────────────┤\n",
       "│ PreInt_EduHx-compu… │ (<span style=\"color: #00d7ff; text-decoration-color: #00d7ff\">None</span>, <span style=\"color: #00af00; text-decoration-color: #00af00\">1</span>)         │          <span style=\"color: #00af00; text-decoration-color: #00af00\">0</span> │ -                 │\n",
       "│ (<span style=\"color: #0087ff; text-decoration-color: #0087ff\">InputLayer</span>)        │                   │            │                   │\n",
       "├─────────────────────┼───────────────────┼────────────┼───────────────────┤\n",
       "│ normalization       │ (<span style=\"color: #00d7ff; text-decoration-color: #00d7ff\">None</span>, <span style=\"color: #00af00; text-decoration-color: #00af00\">1</span>)         │          <span style=\"color: #00af00; text-decoration-color: #00af00\">3</span> │ Basic_Demos-Age[<span style=\"color: #00af00; text-decoration-color: #00af00\">…</span> │\n",
       "│ (<span style=\"color: #0087ff; text-decoration-color: #0087ff\">Normalization</span>)     │                   │            │                   │\n",
       "├─────────────────────┼───────────────────┼────────────┼───────────────────┤\n",
       "│ normalization_1     │ (<span style=\"color: #00d7ff; text-decoration-color: #00d7ff\">None</span>, <span style=\"color: #00af00; text-decoration-color: #00af00\">1</span>)         │          <span style=\"color: #00af00; text-decoration-color: #00af00\">3</span> │ Physical-BMI[<span style=\"color: #00af00; text-decoration-color: #00af00\">0</span>][<span style=\"color: #00af00; text-decoration-color: #00af00\">…</span> │\n",
       "│ (<span style=\"color: #0087ff; text-decoration-color: #0087ff\">Normalization</span>)     │                   │            │                   │\n",
       "├─────────────────────┼───────────────────┼────────────┼───────────────────┤\n",
       "│ normalization_2     │ (<span style=\"color: #00d7ff; text-decoration-color: #00d7ff\">None</span>, <span style=\"color: #00af00; text-decoration-color: #00af00\">1</span>)         │          <span style=\"color: #00af00; text-decoration-color: #00af00\">3</span> │ Physical-Height[<span style=\"color: #00af00; text-decoration-color: #00af00\">…</span> │\n",
       "│ (<span style=\"color: #0087ff; text-decoration-color: #0087ff\">Normalization</span>)     │                   │            │                   │\n",
       "├─────────────────────┼───────────────────┼────────────┼───────────────────┤\n",
       "│ normalization_3     │ (<span style=\"color: #00d7ff; text-decoration-color: #00d7ff\">None</span>, <span style=\"color: #00af00; text-decoration-color: #00af00\">1</span>)         │          <span style=\"color: #00af00; text-decoration-color: #00af00\">3</span> │ Physical-Weight[<span style=\"color: #00af00; text-decoration-color: #00af00\">…</span> │\n",
       "│ (<span style=\"color: #0087ff; text-decoration-color: #0087ff\">Normalization</span>)     │                   │            │                   │\n",
       "├─────────────────────┼───────────────────┼────────────┼───────────────────┤\n",
       "│ normalization_4     │ (<span style=\"color: #00d7ff; text-decoration-color: #00d7ff\">None</span>, <span style=\"color: #00af00; text-decoration-color: #00af00\">1</span>)         │          <span style=\"color: #00af00; text-decoration-color: #00af00\">3</span> │ FGC-FGC_CU[<span style=\"color: #00af00; text-decoration-color: #00af00\">0</span>][<span style=\"color: #00af00; text-decoration-color: #00af00\">0</span>]  │\n",
       "│ (<span style=\"color: #0087ff; text-decoration-color: #0087ff\">Normalization</span>)     │                   │            │                   │\n",
       "├─────────────────────┼───────────────────┼────────────┼───────────────────┤\n",
       "│ normalization_5     │ (<span style=\"color: #00d7ff; text-decoration-color: #00d7ff\">None</span>, <span style=\"color: #00af00; text-decoration-color: #00af00\">1</span>)         │          <span style=\"color: #00af00; text-decoration-color: #00af00\">3</span> │ SDS-SDS_Total_T[<span style=\"color: #00af00; text-decoration-color: #00af00\">…</span> │\n",
       "│ (<span style=\"color: #0087ff; text-decoration-color: #0087ff\">Normalization</span>)     │                   │            │                   │\n",
       "├─────────────────────┼───────────────────┼────────────┼───────────────────┤\n",
       "│ normalization_6     │ (<span style=\"color: #00d7ff; text-decoration-color: #00d7ff\">None</span>, <span style=\"color: #00af00; text-decoration-color: #00af00\">1</span>)         │          <span style=\"color: #00af00; text-decoration-color: #00af00\">3</span> │ PreInt_EduHx-com… │\n",
       "│ (<span style=\"color: #0087ff; text-decoration-color: #0087ff\">Normalization</span>)     │                   │            │                   │\n",
       "├─────────────────────┼───────────────────┼────────────┼───────────────────┤\n",
       "│ concatenate         │ (<span style=\"color: #00d7ff; text-decoration-color: #00d7ff\">None</span>, <span style=\"color: #00af00; text-decoration-color: #00af00\">7</span>)         │          <span style=\"color: #00af00; text-decoration-color: #00af00\">0</span> │ normalization[<span style=\"color: #00af00; text-decoration-color: #00af00\">0</span>]… │\n",
       "│ (<span style=\"color: #0087ff; text-decoration-color: #0087ff\">Concatenate</span>)       │                   │            │ normalization_1[<span style=\"color: #00af00; text-decoration-color: #00af00\">…</span> │\n",
       "│                     │                   │            │ normalization_2[<span style=\"color: #00af00; text-decoration-color: #00af00\">…</span> │\n",
       "│                     │                   │            │ normalization_3[<span style=\"color: #00af00; text-decoration-color: #00af00\">…</span> │\n",
       "│                     │                   │            │ normalization_4[<span style=\"color: #00af00; text-decoration-color: #00af00\">…</span> │\n",
       "│                     │                   │            │ normalization_5[<span style=\"color: #00af00; text-decoration-color: #00af00\">…</span> │\n",
       "│                     │                   │            │ normalization_6[<span style=\"color: #00af00; text-decoration-color: #00af00\">…</span> │\n",
       "├─────────────────────┼───────────────────┼────────────┼───────────────────┤\n",
       "│ dense (<span style=\"color: #0087ff; text-decoration-color: #0087ff\">Dense</span>)       │ (<span style=\"color: #00d7ff; text-decoration-color: #00d7ff\">None</span>, <span style=\"color: #00af00; text-decoration-color: #00af00\">256</span>)       │      <span style=\"color: #00af00; text-decoration-color: #00af00\">2,048</span> │ concatenate[<span style=\"color: #00af00; text-decoration-color: #00af00\">0</span>][<span style=\"color: #00af00; text-decoration-color: #00af00\">0</span>] │\n",
       "├─────────────────────┼───────────────────┼────────────┼───────────────────┤\n",
       "│ batch_normalization │ (<span style=\"color: #00d7ff; text-decoration-color: #00d7ff\">None</span>, <span style=\"color: #00af00; text-decoration-color: #00af00\">256</span>)       │      <span style=\"color: #00af00; text-decoration-color: #00af00\">1,024</span> │ dense[<span style=\"color: #00af00; text-decoration-color: #00af00\">0</span>][<span style=\"color: #00af00; text-decoration-color: #00af00\">0</span>]       │\n",
       "│ (<span style=\"color: #0087ff; text-decoration-color: #0087ff\">BatchNormalizatio…</span> │                   │            │                   │\n",
       "├─────────────────────┼───────────────────┼────────────┼───────────────────┤\n",
       "│ dense_1 (<span style=\"color: #0087ff; text-decoration-color: #0087ff\">Dense</span>)     │ (<span style=\"color: #00d7ff; text-decoration-color: #00d7ff\">None</span>, <span style=\"color: #00af00; text-decoration-color: #00af00\">512</span>)       │    <span style=\"color: #00af00; text-decoration-color: #00af00\">131,584</span> │ batch_normalizat… │\n",
       "├─────────────────────┼───────────────────┼────────────┼───────────────────┤\n",
       "│ dense_2 (<span style=\"color: #0087ff; text-decoration-color: #0087ff\">Dense</span>)     │ (<span style=\"color: #00d7ff; text-decoration-color: #00d7ff\">None</span>, <span style=\"color: #00af00; text-decoration-color: #00af00\">1</span>)         │        <span style=\"color: #00af00; text-decoration-color: #00af00\">513</span> │ dense_1[<span style=\"color: #00af00; text-decoration-color: #00af00\">0</span>][<span style=\"color: #00af00; text-decoration-color: #00af00\">0</span>]     │\n",
       "└─────────────────────┴───────────────────┴────────────┴───────────────────┘\n",
       "</pre>\n"
      ],
      "text/plain": [
       "┏━━━━━━━━━━━━━━━━━━━━━┳━━━━━━━━━━━━━━━━━━━┳━━━━━━━━━━━━┳━━━━━━━━━━━━━━━━━━━┓\n",
       "┃\u001b[1m \u001b[0m\u001b[1mLayer (type)       \u001b[0m\u001b[1m \u001b[0m┃\u001b[1m \u001b[0m\u001b[1mOutput Shape     \u001b[0m\u001b[1m \u001b[0m┃\u001b[1m \u001b[0m\u001b[1m   Param #\u001b[0m\u001b[1m \u001b[0m┃\u001b[1m \u001b[0m\u001b[1mConnected to     \u001b[0m\u001b[1m \u001b[0m┃\n",
       "┡━━━━━━━━━━━━━━━━━━━━━╇━━━━━━━━━━━━━━━━━━━╇━━━━━━━━━━━━╇━━━━━━━━━━━━━━━━━━━┩\n",
       "│ Basic_Demos-Age     │ (\u001b[38;5;45mNone\u001b[0m, \u001b[38;5;34m1\u001b[0m)         │          \u001b[38;5;34m0\u001b[0m │ -                 │\n",
       "│ (\u001b[38;5;33mInputLayer\u001b[0m)        │                   │            │                   │\n",
       "├─────────────────────┼───────────────────┼────────────┼───────────────────┤\n",
       "│ Physical-BMI        │ (\u001b[38;5;45mNone\u001b[0m, \u001b[38;5;34m1\u001b[0m)         │          \u001b[38;5;34m0\u001b[0m │ -                 │\n",
       "│ (\u001b[38;5;33mInputLayer\u001b[0m)        │                   │            │                   │\n",
       "├─────────────────────┼───────────────────┼────────────┼───────────────────┤\n",
       "│ Physical-Height     │ (\u001b[38;5;45mNone\u001b[0m, \u001b[38;5;34m1\u001b[0m)         │          \u001b[38;5;34m0\u001b[0m │ -                 │\n",
       "│ (\u001b[38;5;33mInputLayer\u001b[0m)        │                   │            │                   │\n",
       "├─────────────────────┼───────────────────┼────────────┼───────────────────┤\n",
       "│ Physical-Weight     │ (\u001b[38;5;45mNone\u001b[0m, \u001b[38;5;34m1\u001b[0m)         │          \u001b[38;5;34m0\u001b[0m │ -                 │\n",
       "│ (\u001b[38;5;33mInputLayer\u001b[0m)        │                   │            │                   │\n",
       "├─────────────────────┼───────────────────┼────────────┼───────────────────┤\n",
       "│ FGC-FGC_CU          │ (\u001b[38;5;45mNone\u001b[0m, \u001b[38;5;34m1\u001b[0m)         │          \u001b[38;5;34m0\u001b[0m │ -                 │\n",
       "│ (\u001b[38;5;33mInputLayer\u001b[0m)        │                   │            │                   │\n",
       "├─────────────────────┼───────────────────┼────────────┼───────────────────┤\n",
       "│ SDS-SDS_Total_T     │ (\u001b[38;5;45mNone\u001b[0m, \u001b[38;5;34m1\u001b[0m)         │          \u001b[38;5;34m0\u001b[0m │ -                 │\n",
       "│ (\u001b[38;5;33mInputLayer\u001b[0m)        │                   │            │                   │\n",
       "├─────────────────────┼───────────────────┼────────────┼───────────────────┤\n",
       "│ PreInt_EduHx-compu… │ (\u001b[38;5;45mNone\u001b[0m, \u001b[38;5;34m1\u001b[0m)         │          \u001b[38;5;34m0\u001b[0m │ -                 │\n",
       "│ (\u001b[38;5;33mInputLayer\u001b[0m)        │                   │            │                   │\n",
       "├─────────────────────┼───────────────────┼────────────┼───────────────────┤\n",
       "│ normalization       │ (\u001b[38;5;45mNone\u001b[0m, \u001b[38;5;34m1\u001b[0m)         │          \u001b[38;5;34m3\u001b[0m │ Basic_Demos-Age[\u001b[38;5;34m…\u001b[0m │\n",
       "│ (\u001b[38;5;33mNormalization\u001b[0m)     │                   │            │                   │\n",
       "├─────────────────────┼───────────────────┼────────────┼───────────────────┤\n",
       "│ normalization_1     │ (\u001b[38;5;45mNone\u001b[0m, \u001b[38;5;34m1\u001b[0m)         │          \u001b[38;5;34m3\u001b[0m │ Physical-BMI[\u001b[38;5;34m0\u001b[0m][\u001b[38;5;34m…\u001b[0m │\n",
       "│ (\u001b[38;5;33mNormalization\u001b[0m)     │                   │            │                   │\n",
       "├─────────────────────┼───────────────────┼────────────┼───────────────────┤\n",
       "│ normalization_2     │ (\u001b[38;5;45mNone\u001b[0m, \u001b[38;5;34m1\u001b[0m)         │          \u001b[38;5;34m3\u001b[0m │ Physical-Height[\u001b[38;5;34m…\u001b[0m │\n",
       "│ (\u001b[38;5;33mNormalization\u001b[0m)     │                   │            │                   │\n",
       "├─────────────────────┼───────────────────┼────────────┼───────────────────┤\n",
       "│ normalization_3     │ (\u001b[38;5;45mNone\u001b[0m, \u001b[38;5;34m1\u001b[0m)         │          \u001b[38;5;34m3\u001b[0m │ Physical-Weight[\u001b[38;5;34m…\u001b[0m │\n",
       "│ (\u001b[38;5;33mNormalization\u001b[0m)     │                   │            │                   │\n",
       "├─────────────────────┼───────────────────┼────────────┼───────────────────┤\n",
       "│ normalization_4     │ (\u001b[38;5;45mNone\u001b[0m, \u001b[38;5;34m1\u001b[0m)         │          \u001b[38;5;34m3\u001b[0m │ FGC-FGC_CU[\u001b[38;5;34m0\u001b[0m][\u001b[38;5;34m0\u001b[0m]  │\n",
       "│ (\u001b[38;5;33mNormalization\u001b[0m)     │                   │            │                   │\n",
       "├─────────────────────┼───────────────────┼────────────┼───────────────────┤\n",
       "│ normalization_5     │ (\u001b[38;5;45mNone\u001b[0m, \u001b[38;5;34m1\u001b[0m)         │          \u001b[38;5;34m3\u001b[0m │ SDS-SDS_Total_T[\u001b[38;5;34m…\u001b[0m │\n",
       "│ (\u001b[38;5;33mNormalization\u001b[0m)     │                   │            │                   │\n",
       "├─────────────────────┼───────────────────┼────────────┼───────────────────┤\n",
       "│ normalization_6     │ (\u001b[38;5;45mNone\u001b[0m, \u001b[38;5;34m1\u001b[0m)         │          \u001b[38;5;34m3\u001b[0m │ PreInt_EduHx-com… │\n",
       "│ (\u001b[38;5;33mNormalization\u001b[0m)     │                   │            │                   │\n",
       "├─────────────────────┼───────────────────┼────────────┼───────────────────┤\n",
       "│ concatenate         │ (\u001b[38;5;45mNone\u001b[0m, \u001b[38;5;34m7\u001b[0m)         │          \u001b[38;5;34m0\u001b[0m │ normalization[\u001b[38;5;34m0\u001b[0m]… │\n",
       "│ (\u001b[38;5;33mConcatenate\u001b[0m)       │                   │            │ normalization_1[\u001b[38;5;34m…\u001b[0m │\n",
       "│                     │                   │            │ normalization_2[\u001b[38;5;34m…\u001b[0m │\n",
       "│                     │                   │            │ normalization_3[\u001b[38;5;34m…\u001b[0m │\n",
       "│                     │                   │            │ normalization_4[\u001b[38;5;34m…\u001b[0m │\n",
       "│                     │                   │            │ normalization_5[\u001b[38;5;34m…\u001b[0m │\n",
       "│                     │                   │            │ normalization_6[\u001b[38;5;34m…\u001b[0m │\n",
       "├─────────────────────┼───────────────────┼────────────┼───────────────────┤\n",
       "│ dense (\u001b[38;5;33mDense\u001b[0m)       │ (\u001b[38;5;45mNone\u001b[0m, \u001b[38;5;34m256\u001b[0m)       │      \u001b[38;5;34m2,048\u001b[0m │ concatenate[\u001b[38;5;34m0\u001b[0m][\u001b[38;5;34m0\u001b[0m] │\n",
       "├─────────────────────┼───────────────────┼────────────┼───────────────────┤\n",
       "│ batch_normalization │ (\u001b[38;5;45mNone\u001b[0m, \u001b[38;5;34m256\u001b[0m)       │      \u001b[38;5;34m1,024\u001b[0m │ dense[\u001b[38;5;34m0\u001b[0m][\u001b[38;5;34m0\u001b[0m]       │\n",
       "│ (\u001b[38;5;33mBatchNormalizatio…\u001b[0m │                   │            │                   │\n",
       "├─────────────────────┼───────────────────┼────────────┼───────────────────┤\n",
       "│ dense_1 (\u001b[38;5;33mDense\u001b[0m)     │ (\u001b[38;5;45mNone\u001b[0m, \u001b[38;5;34m512\u001b[0m)       │    \u001b[38;5;34m131,584\u001b[0m │ batch_normalizat… │\n",
       "├─────────────────────┼───────────────────┼────────────┼───────────────────┤\n",
       "│ dense_2 (\u001b[38;5;33mDense\u001b[0m)     │ (\u001b[38;5;45mNone\u001b[0m, \u001b[38;5;34m1\u001b[0m)         │        \u001b[38;5;34m513\u001b[0m │ dense_1[\u001b[38;5;34m0\u001b[0m][\u001b[38;5;34m0\u001b[0m]     │\n",
       "└─────────────────────┴───────────────────┴────────────┴───────────────────┘\n"
      ]
     },
     "metadata": {},
     "output_type": "display_data"
    },
    {
     "data": {
      "text/html": [
       "<pre style=\"white-space:pre;overflow-x:auto;line-height:normal;font-family:Menlo,'DejaVu Sans Mono',consolas,'Courier New',monospace\"><span style=\"font-weight: bold\"> Total params: </span><span style=\"color: #00af00; text-decoration-color: #00af00\">135,190</span> (528.11 KB)\n",
       "</pre>\n"
      ],
      "text/plain": [
       "\u001b[1m Total params: \u001b[0m\u001b[38;5;34m135,190\u001b[0m (528.11 KB)\n"
      ]
     },
     "metadata": {},
     "output_type": "display_data"
    },
    {
     "data": {
      "text/html": [
       "<pre style=\"white-space:pre;overflow-x:auto;line-height:normal;font-family:Menlo,'DejaVu Sans Mono',consolas,'Courier New',monospace\"><span style=\"font-weight: bold\"> Trainable params: </span><span style=\"color: #00af00; text-decoration-color: #00af00\">134,657</span> (526.00 KB)\n",
       "</pre>\n"
      ],
      "text/plain": [
       "\u001b[1m Trainable params: \u001b[0m\u001b[38;5;34m134,657\u001b[0m (526.00 KB)\n"
      ]
     },
     "metadata": {},
     "output_type": "display_data"
    },
    {
     "data": {
      "text/html": [
       "<pre style=\"white-space:pre;overflow-x:auto;line-height:normal;font-family:Menlo,'DejaVu Sans Mono',consolas,'Courier New',monospace\"><span style=\"font-weight: bold\"> Non-trainable params: </span><span style=\"color: #00af00; text-decoration-color: #00af00\">533</span> (2.11 KB)\n",
       "</pre>\n"
      ],
      "text/plain": [
       "\u001b[1m Non-trainable params: \u001b[0m\u001b[38;5;34m533\u001b[0m (2.11 KB)\n"
      ]
     },
     "metadata": {},
     "output_type": "display_data"
    }
   ],
   "source": [
    "# Try with a more complex model\n",
    "tf.keras.backend.clear_session(\n",
    "    free_memory=True\n",
    ")\n",
    "x = tf.keras.layers.Dense(256, activation='relu')(all_features)\n",
    "x = tf.keras.layers.BatchNormalization()(x)\n",
    "x = tf.keras.layers.Dense(512, activation='relu')(x)\n",
    "output = tf.keras.layers.Dense(1, activation='sigmoid')(x)\n",
    "\n",
    "model = tf.keras.Model(all_inputs, output)\n",
    "model.compile(\n",
    "    optimizer=tf.keras.optimizers.Adam(learning_rate=1e-4),\n",
    "    loss=tf.keras.losses.BinaryCrossentropy(from_logits=True),\n",
    "    metrics=[tf.keras.metrics.AUC(), tf.keras.metrics.Accuracy()])\n",
    "\n",
    "model.summary()\n"
   ]
  },
  {
   "cell_type": "code",
   "execution_count": 273,
   "metadata": {},
   "outputs": [
    {
     "name": "stdout",
     "output_type": "stream",
     "text": [
      "Epoch 1/10\n"
     ]
    },
    {
     "name": "stderr",
     "output_type": "stream",
     "text": [
      "/Users/lucaswerner/Desktop/projects/kaggle/child_mind_institute/.venv/lib/python3.11/site-packages/keras/src/models/functional.py:225: UserWarning: The structure of `inputs` doesn't match the expected structure: ['Basic_Demos-Age', 'Physical-BMI', 'Physical-Height', 'Physical-Weight', 'FGC-FGC_CU', 'SDS-SDS_Total_T', 'PreInt_EduHx-computerinternet_hoursday']. Received: the structure of inputs={'Basic_Demos-Age': '*', 'Physical-BMI': '*', 'Physical-Height': '*', 'Physical-Weight': '*', 'FGC-FGC_CU': '*', 'SDS-SDS_Total_T': '*', 'PreInt_EduHx-computerinternet_hoursday': '*'}\n",
      "  warnings.warn(\n",
      "/Users/lucaswerner/Desktop/projects/kaggle/child_mind_institute/.venv/lib/python3.11/site-packages/keras/src/backend/tensorflow/nn.py:707: UserWarning: \"`binary_crossentropy` received `from_logits=True`, but the `output` argument was produced by a Sigmoid activation and thus does not represent logits. Was this intended?\n",
      "  output, from_logits = _get_logits(\n"
     ]
    },
    {
     "name": "stdout",
     "output_type": "stream",
     "text": [
      "\u001b[1m69/69\u001b[0m \u001b[32m━━━━━━━━━━━━━━━━━━━━\u001b[0m\u001b[37m\u001b[0m \u001b[1m3s\u001b[0m 9ms/step - accuracy: 0.0000e+00 - auc: 0.7077 - loss: 0.6277 - val_accuracy: 0.0000e+00 - val_auc: 0.7033 - val_loss: 0.9116\n",
      "Epoch 2/10\n",
      "\u001b[1m69/69\u001b[0m \u001b[32m━━━━━━━━━━━━━━━━━━━━\u001b[0m\u001b[37m\u001b[0m \u001b[1m0s\u001b[0m 3ms/step - accuracy: 0.0000e+00 - auc: 0.7261 - loss: 0.6049 - val_accuracy: 0.0000e+00 - val_auc: 0.7258 - val_loss: 0.6740\n",
      "Epoch 3/10\n",
      "\u001b[1m69/69\u001b[0m \u001b[32m━━━━━━━━━━━━━━━━━━━━\u001b[0m\u001b[37m\u001b[0m \u001b[1m0s\u001b[0m 3ms/step - accuracy: 0.0000e+00 - auc: 0.7591 - loss: 0.5760 - val_accuracy: 0.0000e+00 - val_auc: 0.7200 - val_loss: 0.6031\n",
      "Epoch 4/10\n",
      "\u001b[1m69/69\u001b[0m \u001b[32m━━━━━━━━━━━━━━━━━━━━\u001b[0m\u001b[37m\u001b[0m \u001b[1m0s\u001b[0m 3ms/step - accuracy: 0.0000e+00 - auc: 0.7541 - loss: 0.5832 - val_accuracy: 0.0000e+00 - val_auc: 0.7307 - val_loss: 0.5929\n",
      "Epoch 5/10\n",
      "\u001b[1m69/69\u001b[0m \u001b[32m━━━━━━━━━━━━━━━━━━━━\u001b[0m\u001b[37m\u001b[0m \u001b[1m0s\u001b[0m 3ms/step - accuracy: 0.0000e+00 - auc: 0.7510 - loss: 0.5809 - val_accuracy: 0.0000e+00 - val_auc: 0.7355 - val_loss: 0.5856\n",
      "Epoch 6/10\n",
      "\u001b[1m69/69\u001b[0m \u001b[32m━━━━━━━━━━━━━━━━━━━━\u001b[0m\u001b[37m\u001b[0m \u001b[1m0s\u001b[0m 3ms/step - accuracy: 0.0000e+00 - auc: 0.7530 - loss: 0.5835 - val_accuracy: 0.0000e+00 - val_auc: 0.7298 - val_loss: 0.6020\n",
      "Epoch 7/10\n",
      "\u001b[1m69/69\u001b[0m \u001b[32m━━━━━━━━━━━━━━━━━━━━\u001b[0m\u001b[37m\u001b[0m \u001b[1m0s\u001b[0m 3ms/step - accuracy: 0.0000e+00 - auc: 0.7583 - loss: 0.5792 - val_accuracy: 0.0000e+00 - val_auc: 0.7358 - val_loss: 0.5918\n",
      "Epoch 8/10\n",
      "\u001b[1m69/69\u001b[0m \u001b[32m━━━━━━━━━━━━━━━━━━━━\u001b[0m\u001b[37m\u001b[0m \u001b[1m0s\u001b[0m 3ms/step - accuracy: 0.0000e+00 - auc: 0.7620 - loss: 0.5738 - val_accuracy: 0.0000e+00 - val_auc: 0.7260 - val_loss: 0.5992\n",
      "Epoch 9/10\n",
      "\u001b[1m69/69\u001b[0m \u001b[32m━━━━━━━━━━━━━━━━━━━━\u001b[0m\u001b[37m\u001b[0m \u001b[1m0s\u001b[0m 3ms/step - accuracy: 0.0000e+00 - auc: 0.7584 - loss: 0.5766 - val_accuracy: 0.0000e+00 - val_auc: 0.7375 - val_loss: 0.5852\n",
      "Epoch 10/10\n",
      "\u001b[1m69/69\u001b[0m \u001b[32m━━━━━━━━━━━━━━━━━━━━\u001b[0m\u001b[37m\u001b[0m \u001b[1m0s\u001b[0m 3ms/step - accuracy: 0.0000e+00 - auc: 0.7651 - loss: 0.5700 - val_accuracy: 0.0000e+00 - val_auc: 0.7367 - val_loss: 0.5865\n"
     ]
    },
    {
     "data": {
      "image/png": "[encoded data removed]",
      "text/plain": [
       "<Figure size 640x480 with 1 Axes>"
      ]
     },
     "metadata": {},
     "output_type": "display_data"
    }
   ],
   "source": [
    "history = model.fit(train_ds, epochs=10, validation_data=val_ds, verbose=1)\n",
    "\n",
    "# Extract loss values\n",
    "train_loss = history.history['loss']\n",
    "val_loss = history.history['val_loss']\n",
    "\n",
    "# Plot the training and validation loss\n",
    "epochs = range(1, len(train_loss) + 1)\n",
    "\n",
    "plt.plot(epochs, train_loss, 'bo-', label='Training Loss')\n",
    "plt.plot(epochs, val_loss, 'ro-', label='Validation Loss')\n",
    "plt.title('Training and Validation Loss')\n",
    "plt.xlabel('Epochs')\n",
    "plt.ylabel('Loss')\n",
    "plt.legend()\n",
    "plt.show()"
   ]
  },
  {
   "cell_type": "code",
   "execution_count": 282,
   "metadata": {},
   "outputs": [
    {
     "name": "stdout",
     "output_type": "stream",
     "text": [
      "\u001b[1m 1/18\u001b[0m \u001b[32m━\u001b[0m\u001b[37m━━━━━━━━━━━━━━━━━━━\u001b[0m \u001b[1m0s\u001b[0m 9ms/step"
     ]
    },
    {
     "name": "stdout",
     "output_type": "stream",
     "text": [
      "\u001b[1m18/18\u001b[0m \u001b[32m━━━━━━━━━━━━━━━━━━━━\u001b[0m\u001b[37m\u001b[0m \u001b[1m0s\u001b[0m 3ms/step\n"
     ]
    }
   ],
   "source": [
    "predictions = model.predict(val_ds).ravel()\n",
    "threshold = 0.5\n",
    "predicted_classes = tf.where(predictions >= threshold, 1, 0) "
   ]
  },
  {
   "cell_type": "code",
   "execution_count": 283,
   "metadata": {},
   "outputs": [
    {
     "name": "stderr",
     "output_type": "stream",
     "text": [
      "2024-10-29 23:57:09.260021: W tensorflow/core/framework/local_rendezvous.cc:404] Local rendezvous is aborting with status: OUT_OF_RANGE: End of sequence\n"
     ]
    },
    {
     "name": "stdout",
     "output_type": "stream",
     "text": [
      "Total incorrect:  230  out of:  547\n"
     ]
    }
   ],
   "source": [
    "val_targets = val_ds.unbatch().map(lambda x,y: y)\n",
    "val_targets = list(val_targets.as_numpy_iterator())\n",
    "\n",
    "count=0\n",
    "for target, prediction in zip(val_targets,predicted_classes):\n",
    "    if target != prediction:\n",
    "        count+=1\n",
    "        #print(\"Target: \", target, \" Prediction:\", prediction)\n",
    "print('Total incorrect: ',count, \" out of: \", len(val_targets))"
   ]
  },
  {
   "cell_type": "code",
   "execution_count": null,
   "metadata": {},
   "outputs": [],
   "source": []
  },
  {
   "cell_type": "code",
   "execution_count": null,
   "metadata": {},
   "outputs": [],
   "source": []
  }
 ],
 "metadata": {
  "kernelspec": {
   "display_name": ".venv",
   "language": "python",
   "name": "python3"
  },
  "language_info": {
   "codemirror_mode": {
    "name": "ipython",
    "version": 3
   },
   "file_extension": ".py",
   "mimetype": "text/x-python",
   "name": "python",
   "nbconvert_exporter": "python",
   "pygments_lexer": "ipython3",
   "version": "3.11.6"
  }
 },
 "nbformat": 4,
 "nbformat_minor": 2
}
